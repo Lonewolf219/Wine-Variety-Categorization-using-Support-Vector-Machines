{
  "nbformat": 4,
  "nbformat_minor": 0,
  "metadata": {
    "colab": {
      "name": "wine_variety.ipynb",
      "provenance": [],
      "collapsed_sections": [],
      "mount_file_id": "19ZmPYlk6wkAtS0E-urLcSoexLFZ6JtxQ",
      "authorship_tag": "ABX9TyNNS099qxncozG5OG0maMYC"
    },
    "kernelspec": {
      "name": "python3",
      "display_name": "Python 3"
    }
  },
  "cells": [
    {
      "cell_type": "markdown",
      "metadata": {
        "id": "KSwB70608j45",
        "colab_type": "text"
      },
      "source": [
        ""
      ]
    },
    {
      "cell_type": "code",
      "metadata": {
        "id": "gtjlyxvc9m9C",
        "colab_type": "code",
        "outputId": "ee43fd1b-e421-4015-fe03-6648f97d5581",
        "colab": {
          "base_uri": "https://localhost:8080/",
          "height": 1000
        }
      },
      "source": [
        "!pip install vega\n",
        "!pip install altair vega_datasets"
      ],
      "execution_count": 0,
      "outputs": [
        {
          "output_type": "stream",
          "text": [
            "Collecting vega\n",
            "\u001b[?25l  Downloading https://files.pythonhosted.org/packages/0b/d6/b7cc923d709ca4da21c5a8aba196e543388d526ba2947031447bede7e771/vega-3.2.0-py3-none-any.whl (1.2MB)\n",
            "\u001b[K     |████████████████████████████████| 1.2MB 2.8MB/s \n",
            "\u001b[?25hRequirement already satisfied: jupyter<2.0.0,>=1.0.0 in /usr/local/lib/python3.6/dist-packages (from vega) (1.0.0)\n",
            "Requirement already satisfied: pandas<2.0.0,>=1.0.0 in /usr/local/lib/python3.6/dist-packages (from vega) (1.0.3)\n",
            "Requirement already satisfied: jupyter-console in /usr/local/lib/python3.6/dist-packages (from jupyter<2.0.0,>=1.0.0->vega) (5.2.0)\n",
            "Requirement already satisfied: notebook in /usr/local/lib/python3.6/dist-packages (from jupyter<2.0.0,>=1.0.0->vega) (5.2.2)\n",
            "Requirement already satisfied: ipykernel in /usr/local/lib/python3.6/dist-packages (from jupyter<2.0.0,>=1.0.0->vega) (4.10.1)\n",
            "Requirement already satisfied: nbconvert in /usr/local/lib/python3.6/dist-packages (from jupyter<2.0.0,>=1.0.0->vega) (5.6.1)\n",
            "Requirement already satisfied: qtconsole in /usr/local/lib/python3.6/dist-packages (from jupyter<2.0.0,>=1.0.0->vega) (4.7.3)\n",
            "Requirement already satisfied: ipywidgets in /usr/local/lib/python3.6/dist-packages (from jupyter<2.0.0,>=1.0.0->vega) (7.5.1)\n",
            "Requirement already satisfied: python-dateutil>=2.6.1 in /usr/local/lib/python3.6/dist-packages (from pandas<2.0.0,>=1.0.0->vega) (2.8.1)\n",
            "Requirement already satisfied: numpy>=1.13.3 in /usr/local/lib/python3.6/dist-packages (from pandas<2.0.0,>=1.0.0->vega) (1.18.4)\n",
            "Requirement already satisfied: pytz>=2017.2 in /usr/local/lib/python3.6/dist-packages (from pandas<2.0.0,>=1.0.0->vega) (2018.9)\n",
            "Requirement already satisfied: prompt-toolkit<2.0.0,>=1.0.0 in /usr/local/lib/python3.6/dist-packages (from jupyter-console->jupyter<2.0.0,>=1.0.0->vega) (1.0.18)\n",
            "Requirement already satisfied: jupyter-client in /usr/local/lib/python3.6/dist-packages (from jupyter-console->jupyter<2.0.0,>=1.0.0->vega) (5.3.4)\n",
            "Requirement already satisfied: pygments in /usr/local/lib/python3.6/dist-packages (from jupyter-console->jupyter<2.0.0,>=1.0.0->vega) (2.1.3)\n",
            "Requirement already satisfied: ipython in /usr/local/lib/python3.6/dist-packages (from jupyter-console->jupyter<2.0.0,>=1.0.0->vega) (5.5.0)\n",
            "Requirement already satisfied: nbformat in /usr/local/lib/python3.6/dist-packages (from notebook->jupyter<2.0.0,>=1.0.0->vega) (5.0.6)\n",
            "Requirement already satisfied: tornado>=4 in /usr/local/lib/python3.6/dist-packages (from notebook->jupyter<2.0.0,>=1.0.0->vega) (4.5.3)\n",
            "Requirement already satisfied: jupyter-core in /usr/local/lib/python3.6/dist-packages (from notebook->jupyter<2.0.0,>=1.0.0->vega) (4.6.3)\n",
            "Requirement already satisfied: traitlets>=4.2.1 in /usr/local/lib/python3.6/dist-packages (from notebook->jupyter<2.0.0,>=1.0.0->vega) (4.3.3)\n",
            "Requirement already satisfied: terminado>=0.3.3; sys_platform != \"win32\" in /usr/local/lib/python3.6/dist-packages (from notebook->jupyter<2.0.0,>=1.0.0->vega) (0.8.3)\n",
            "Requirement already satisfied: jinja2 in /usr/local/lib/python3.6/dist-packages (from notebook->jupyter<2.0.0,>=1.0.0->vega) (2.11.2)\n",
            "Requirement already satisfied: ipython-genutils in /usr/local/lib/python3.6/dist-packages (from notebook->jupyter<2.0.0,>=1.0.0->vega) (0.2.0)\n",
            "Requirement already satisfied: entrypoints>=0.2.2 in /usr/local/lib/python3.6/dist-packages (from nbconvert->jupyter<2.0.0,>=1.0.0->vega) (0.3)\n",
            "Requirement already satisfied: bleach in /usr/local/lib/python3.6/dist-packages (from nbconvert->jupyter<2.0.0,>=1.0.0->vega) (3.1.5)\n",
            "Requirement already satisfied: pandocfilters>=1.4.1 in /usr/local/lib/python3.6/dist-packages (from nbconvert->jupyter<2.0.0,>=1.0.0->vega) (1.4.2)\n",
            "Requirement already satisfied: mistune<2,>=0.8.1 in /usr/local/lib/python3.6/dist-packages (from nbconvert->jupyter<2.0.0,>=1.0.0->vega) (0.8.4)\n",
            "Requirement already satisfied: testpath in /usr/local/lib/python3.6/dist-packages (from nbconvert->jupyter<2.0.0,>=1.0.0->vega) (0.4.4)\n",
            "Requirement already satisfied: defusedxml in /usr/local/lib/python3.6/dist-packages (from nbconvert->jupyter<2.0.0,>=1.0.0->vega) (0.6.0)\n",
            "Requirement already satisfied: qtpy in /usr/local/lib/python3.6/dist-packages (from qtconsole->jupyter<2.0.0,>=1.0.0->vega) (1.9.0)\n",
            "Requirement already satisfied: pyzmq>=17.1 in /usr/local/lib/python3.6/dist-packages (from qtconsole->jupyter<2.0.0,>=1.0.0->vega) (19.0.0)\n",
            "Requirement already satisfied: widgetsnbextension~=3.5.0 in /usr/local/lib/python3.6/dist-packages (from ipywidgets->jupyter<2.0.0,>=1.0.0->vega) (3.5.1)\n",
            "Requirement already satisfied: six>=1.5 in /usr/local/lib/python3.6/dist-packages (from python-dateutil>=2.6.1->pandas<2.0.0,>=1.0.0->vega) (1.12.0)\n",
            "Requirement already satisfied: wcwidth in /usr/local/lib/python3.6/dist-packages (from prompt-toolkit<2.0.0,>=1.0.0->jupyter-console->jupyter<2.0.0,>=1.0.0->vega) (0.1.9)\n",
            "Requirement already satisfied: pexpect; sys_platform != \"win32\" in /usr/local/lib/python3.6/dist-packages (from ipython->jupyter-console->jupyter<2.0.0,>=1.0.0->vega) (4.8.0)\n",
            "Requirement already satisfied: simplegeneric>0.8 in /usr/local/lib/python3.6/dist-packages (from ipython->jupyter-console->jupyter<2.0.0,>=1.0.0->vega) (0.8.1)\n",
            "Requirement already satisfied: setuptools>=18.5 in /usr/local/lib/python3.6/dist-packages (from ipython->jupyter-console->jupyter<2.0.0,>=1.0.0->vega) (46.1.3)\n",
            "Requirement already satisfied: decorator in /usr/local/lib/python3.6/dist-packages (from ipython->jupyter-console->jupyter<2.0.0,>=1.0.0->vega) (4.4.2)\n",
            "Requirement already satisfied: pickleshare in /usr/local/lib/python3.6/dist-packages (from ipython->jupyter-console->jupyter<2.0.0,>=1.0.0->vega) (0.7.5)\n",
            "Requirement already satisfied: jsonschema!=2.5.0,>=2.4 in /usr/local/lib/python3.6/dist-packages (from nbformat->notebook->jupyter<2.0.0,>=1.0.0->vega) (2.6.0)\n",
            "Requirement already satisfied: ptyprocess; os_name != \"nt\" in /usr/local/lib/python3.6/dist-packages (from terminado>=0.3.3; sys_platform != \"win32\"->notebook->jupyter<2.0.0,>=1.0.0->vega) (0.6.0)\n",
            "Requirement already satisfied: MarkupSafe>=0.23 in /usr/local/lib/python3.6/dist-packages (from jinja2->notebook->jupyter<2.0.0,>=1.0.0->vega) (1.1.1)\n",
            "Requirement already satisfied: webencodings in /usr/local/lib/python3.6/dist-packages (from bleach->nbconvert->jupyter<2.0.0,>=1.0.0->vega) (0.5.1)\n",
            "Requirement already satisfied: packaging in /usr/local/lib/python3.6/dist-packages (from bleach->nbconvert->jupyter<2.0.0,>=1.0.0->vega) (20.3)\n",
            "Requirement already satisfied: pyparsing>=2.0.2 in /usr/local/lib/python3.6/dist-packages (from packaging->bleach->nbconvert->jupyter<2.0.0,>=1.0.0->vega) (2.4.7)\n",
            "Installing collected packages: vega\n",
            "Successfully installed vega-3.2.0\n",
            "Requirement already satisfied: altair in /usr/local/lib/python3.6/dist-packages (4.1.0)\n",
            "Requirement already satisfied: vega_datasets in /usr/local/lib/python3.6/dist-packages (0.8.0)\n",
            "Requirement already satisfied: jsonschema in /usr/local/lib/python3.6/dist-packages (from altair) (2.6.0)\n",
            "Requirement already satisfied: jinja2 in /usr/local/lib/python3.6/dist-packages (from altair) (2.11.2)\n",
            "Requirement already satisfied: toolz in /usr/local/lib/python3.6/dist-packages (from altair) (0.10.0)\n",
            "Requirement already satisfied: pandas>=0.18 in /usr/local/lib/python3.6/dist-packages (from altair) (1.0.3)\n",
            "Requirement already satisfied: entrypoints in /usr/local/lib/python3.6/dist-packages (from altair) (0.3)\n",
            "Requirement already satisfied: numpy in /usr/local/lib/python3.6/dist-packages (from altair) (1.18.4)\n",
            "Requirement already satisfied: MarkupSafe>=0.23 in /usr/local/lib/python3.6/dist-packages (from jinja2->altair) (1.1.1)\n",
            "Requirement already satisfied: python-dateutil>=2.6.1 in /usr/local/lib/python3.6/dist-packages (from pandas>=0.18->altair) (2.8.1)\n",
            "Requirement already satisfied: pytz>=2017.2 in /usr/local/lib/python3.6/dist-packages (from pandas>=0.18->altair) (2018.9)\n",
            "Requirement already satisfied: six>=1.5 in /usr/local/lib/python3.6/dist-packages (from python-dateutil>=2.6.1->pandas>=0.18->altair) (1.12.0)\n"
          ],
          "name": "stdout"
        }
      ]
    },
    {
      "cell_type": "code",
      "metadata": {
        "id": "KSQIzb6ZJyVR",
        "colab_type": "code",
        "outputId": "0c4d108a-7767-494f-e9e8-fbae608190eb",
        "colab": {
          "base_uri": "https://localhost:8080/",
          "height": 33
        }
      },
      "source": [
        "%cd /content/drive/My Drive/wine_categorization"
      ],
      "execution_count": 0,
      "outputs": [
        {
          "output_type": "stream",
          "text": [
            "/content/drive/My Drive/wine_categorization\n"
          ],
          "name": "stdout"
        }
      ]
    },
    {
      "cell_type": "code",
      "metadata": {
        "id": "ejd6rPCr8kUJ",
        "colab_type": "code",
        "colab": {}
      },
      "source": [
        "import pandas as pd\n",
        "import numpy as np\n",
        "import seaborn as sns\n",
        "import matplotlib.pyplot as plt\n",
        "%matplotlib inline\n",
        "import warnings\n",
        "warnings.filterwarnings(\"ignore\")\n",
        "import pickle\n",
        "import seaborn as sns\n",
        "sns.set_style(\"whitegrid\")\n",
        "import altair as alt\n",
        "#alt.renderers.enable(\"notebook\")\n",
        "alt.renderers.enable('colab')\n",
        "#alt.renderers.enable('jupyterlab/notebook')\n",
        "from IPython.display import  display\n",
        "\n",
        "\n"
      ],
      "execution_count": 0,
      "outputs": []
    },
    {
      "cell_type": "code",
      "metadata": {
        "id": "QqlgfGW-8owx",
        "colab_type": "code",
        "outputId": "a401d110-f2cb-4deb-d368-5495d13036de",
        "colab": {
          "base_uri": "https://localhost:8080/",
          "height": 33
        }
      },
      "source": [
        "df = pd.read_csv('/content/drive/My Drive/wine_categorization/data/train.csv')\n",
        "df.shape"
      ],
      "execution_count": 0,
      "outputs": [
        {
          "output_type": "execute_result",
          "data": {
            "text/plain": [
              "(82657, 12)"
            ]
          },
          "metadata": {
            "tags": []
          },
          "execution_count": 3
        }
      ]
    },
    {
      "cell_type": "code",
      "metadata": {
        "id": "rgh2BWHb82c6",
        "colab_type": "code",
        "outputId": "3fb8d43b-4c4a-4aba-df3e-4f82a23b465e",
        "colab": {
          "base_uri": "https://localhost:8080/",
          "height": 234
        }
      },
      "source": [
        "df.isna().sum()"
      ],
      "execution_count": 0,
      "outputs": [
        {
          "output_type": "execute_result",
          "data": {
            "text/plain": [
              "user_name             19393\n",
              "country                  35\n",
              "review_title              0\n",
              "review_description        0\n",
              "designation           23647\n",
              "points                    0\n",
              "price                  5569\n",
              "province                 35\n",
              "region_1              12754\n",
              "region_2              46708\n",
              "winery                    0\n",
              "variety                   0\n",
              "dtype: int64"
            ]
          },
          "metadata": {
            "tags": []
          },
          "execution_count": 4
        }
      ]
    },
    {
      "cell_type": "code",
      "metadata": {
        "id": "YS_WItllCtV5",
        "colab_type": "code",
        "colab": {}
      },
      "source": [
        "df_1 = df.loc[:5000]"
      ],
      "execution_count": 0,
      "outputs": []
    },
    {
      "cell_type": "code",
      "metadata": {
        "id": "-vts76LSCHj1",
        "colab_type": "code",
        "colab": {}
      },
      "source": [
        "bars = alt.Chart(df_1).mark_bar(size=50).encode(\n",
        "    x=alt.X(\"variety\"),\n",
        "    y=alt.Y(\"count():Q\", axis=alt.Axis(title='Number of entries')),\n",
        "    tooltip=[alt.Tooltip('count()', title='Number of entries'), 'variety'],\n",
        "    color='variety'\n",
        "\n",
        ")\n",
        "\n",
        "text = bars.mark_text(\n",
        "    align='center',\n",
        "    baseline='bottom',\n",
        ").encode(\n",
        "    text='count()'\n",
        ")\n",
        "\n",
        "(bars + text).interactive().properties(\n",
        "    height=500, \n",
        "    width=1500,\n",
        "    title = \"Number of entries in each category\",\n",
        ")"
      ],
      "execution_count": 0,
      "outputs": []
    },
    {
      "cell_type": "code",
      "metadata": {
        "id": "FW5TV3yzGHtL",
        "colab_type": "code",
        "outputId": "2f8d2ed8-05f6-4382-d032-be5c4a896aa2",
        "colab": {
          "base_uri": "https://localhost:8080/",
          "height": 514
        }
      },
      "source": [
        "df_1['id'] = 1\n",
        "df2 = pd.DataFrame(df_1.groupby('variety').count()['id']).reset_index()\n",
        "\n",
        "bars = alt.Chart(df2).mark_bar(size=50).encode(\n",
        "    x=alt.X('variety'),\n",
        "    y=alt.Y('PercentOfTotal:Q', axis=alt.Axis(format='.0%', title='% of entries')),\n",
        "    color='variety'\n",
        ").transform_window(\n",
        "    TotalArticles='sum(id)',\n",
        "    frame=[None, None]\n",
        ").transform_calculate(\n",
        "    PercentOfTotal=\"datum.id / datum.TotalArticles\"\n",
        ")\n",
        "\n",
        "text = bars.mark_text(\n",
        "    align='center',\n",
        "    baseline='bottom',\n",
        "    #dx=5  # Nudges text to right so it doesn't appear on top of the bar\n",
        ").encode(\n",
        "    text=alt.Text('PercentOfTotal:Q', format='.1%')\n",
        ")\n",
        "\n",
        "(bars + text).interactive().properties(\n",
        "    height=300, \n",
        "    width=1500,\n",
        "    title = \"% of entries in each category\",\n",
        ")"
      ],
      "execution_count": 0,
      "outputs": [
        {
          "output_type": "execute_result",
          "data": {
            "text/plain": [
              "alt.LayerChart(...)"
            ],
            "text/html": [
              "\n",
              "<div id=\"altair-viz-909a8489db2e4889a06ea4ebd03cd8f5\"></div>\n",
              "<script type=\"text/javascript\">\n",
              "  (function(spec, embedOpt){\n",
              "    let outputDiv = document.currentScript.previousElementSibling;\n",
              "    if (outputDiv.id !== \"altair-viz-909a8489db2e4889a06ea4ebd03cd8f5\") {\n",
              "      outputDiv = document.getElementById(\"altair-viz-909a8489db2e4889a06ea4ebd03cd8f5\");\n",
              "    }\n",
              "    const paths = {\n",
              "      \"vega\": \"https://cdn.jsdelivr.net/npm//vega@5?noext\",\n",
              "      \"vega-lib\": \"https://cdn.jsdelivr.net/npm//vega-lib?noext\",\n",
              "      \"vega-lite\": \"https://cdn.jsdelivr.net/npm//vega-lite@4.8.1?noext\",\n",
              "      \"vega-embed\": \"https://cdn.jsdelivr.net/npm//vega-embed@6?noext\",\n",
              "    };\n",
              "\n",
              "    function loadScript(lib) {\n",
              "      return new Promise(function(resolve, reject) {\n",
              "        var s = document.createElement('script');\n",
              "        s.src = paths[lib];\n",
              "        s.async = true;\n",
              "        s.onload = () => resolve(paths[lib]);\n",
              "        s.onerror = () => reject(`Error loading script: ${paths[lib]}`);\n",
              "        document.getElementsByTagName(\"head\")[0].appendChild(s);\n",
              "      });\n",
              "    }\n",
              "\n",
              "    function showError(err) {\n",
              "      outputDiv.innerHTML = `<div class=\"error\" style=\"color:red;\">${err}</div>`;\n",
              "      throw err;\n",
              "    }\n",
              "\n",
              "    function displayChart(vegaEmbed) {\n",
              "      vegaEmbed(outputDiv, spec, embedOpt)\n",
              "        .catch(err => showError(`Javascript Error: ${err.message}<br>This usually means there's a typo in your chart specification. See the javascript console for the full traceback.`));\n",
              "    }\n",
              "\n",
              "    if(typeof define === \"function\" && define.amd) {\n",
              "      requirejs.config({paths});\n",
              "      require([\"vega-embed\"], displayChart, err => showError(`Error loading script: ${err.message}`));\n",
              "    } else if (typeof vegaEmbed === \"function\") {\n",
              "      displayChart(vegaEmbed);\n",
              "    } else {\n",
              "      loadScript(\"vega\")\n",
              "        .then(() => loadScript(\"vega-lite\"))\n",
              "        .then(() => loadScript(\"vega-embed\"))\n",
              "        .catch(showError)\n",
              "        .then(() => displayChart(vegaEmbed));\n",
              "    }\n",
              "  })({\"config\": {\"view\": {\"continuousWidth\": 400, \"continuousHeight\": 300}}, \"layer\": [{\"mark\": {\"type\": \"bar\", \"size\": 50}, \"encoding\": {\"color\": {\"type\": \"nominal\", \"field\": \"variety\"}, \"x\": {\"type\": \"nominal\", \"field\": \"variety\"}, \"y\": {\"type\": \"quantitative\", \"axis\": {\"format\": \".0%\", \"title\": \"% of entries\"}, \"field\": \"PercentOfTotal\"}}, \"selection\": {\"selector007\": {\"type\": \"interval\", \"bind\": \"scales\", \"encodings\": [\"x\", \"y\"]}}, \"transform\": [{\"window\": [{\"op\": \"sum\", \"field\": \"id\", \"as\": \"TotalArticles\"}], \"frame\": [null, null]}, {\"calculate\": \"datum.id / datum.TotalArticles\", \"as\": \"PercentOfTotal\"}]}, {\"mark\": {\"type\": \"text\", \"align\": \"center\", \"baseline\": \"bottom\"}, \"encoding\": {\"color\": {\"type\": \"nominal\", \"field\": \"variety\"}, \"text\": {\"type\": \"quantitative\", \"field\": \"PercentOfTotal\", \"format\": \".1%\"}, \"x\": {\"type\": \"nominal\", \"field\": \"variety\"}, \"y\": {\"type\": \"quantitative\", \"axis\": {\"format\": \".0%\", \"title\": \"% of entries\"}, \"field\": \"PercentOfTotal\"}}, \"transform\": [{\"window\": [{\"op\": \"sum\", \"field\": \"id\", \"as\": \"TotalArticles\"}], \"frame\": [null, null]}, {\"calculate\": \"datum.id / datum.TotalArticles\", \"as\": \"PercentOfTotal\"}]}], \"data\": {\"name\": \"data-f12d6ec984eaafbf4428eeb61c8c3581\"}, \"height\": 300, \"title\": \"% of entries in each category\", \"width\": 1500, \"$schema\": \"https://vega.github.io/schema/vega-lite/v4.8.1.json\", \"datasets\": {\"data-f12d6ec984eaafbf4428eeb61c8c3581\": [{\"variety\": \"Bordeaux-style Red Blend\", \"id\": 321}, {\"variety\": \"Bordeaux-style White Blend\", \"id\": 48}, {\"variety\": \"Cabernet Franc\", \"id\": 66}, {\"variety\": \"Cabernet Sauvignon\", \"id\": 482}, {\"variety\": \"Champagne Blend\", \"id\": 65}, {\"variety\": \"Chardonnay\", \"id\": 592}, {\"variety\": \"Gamay\", \"id\": 53}, {\"variety\": \"Gew\\u00fcrztraminer\", \"id\": 51}, {\"variety\": \"Gr\\u00fcner Veltliner\", \"id\": 59}, {\"variety\": \"Malbec\", \"id\": 145}, {\"variety\": \"Merlot\", \"id\": 136}, {\"variety\": \"Nebbiolo\", \"id\": 131}, {\"variety\": \"Pinot Grigio\", \"id\": 52}, {\"variety\": \"Pinot Gris\", \"id\": 59}, {\"variety\": \"Pinot Noir\", \"id\": 617}, {\"variety\": \"Portuguese Red\", \"id\": 142}, {\"variety\": \"Portuguese White\", \"id\": 59}, {\"variety\": \"Red Blend\", \"id\": 443}, {\"variety\": \"Rh\\u00f4ne-style Red Blend\", \"id\": 67}, {\"variety\": \"Riesling\", \"id\": 227}, {\"variety\": \"Ros\\u00e9\", \"id\": 158}, {\"variety\": \"Sangiovese\", \"id\": 142}, {\"variety\": \"Sauvignon Blanc\", \"id\": 247}, {\"variety\": \"Sparkling Blend\", \"id\": 114}, {\"variety\": \"Syrah\", \"id\": 195}, {\"variety\": \"Tempranillo\", \"id\": 88}, {\"variety\": \"White Blend\", \"id\": 115}, {\"variety\": \"Zinfandel\", \"id\": 127}]}}, {\"mode\": \"vega-lite\"});\n",
              "</script>"
            ]
          },
          "metadata": {
            "tags": []
          },
          "execution_count": 28
        }
      ]
    },
    {
      "cell_type": "code",
      "metadata": {
        "id": "uwyArOKTLzPq",
        "colab_type": "code",
        "outputId": "cb037bb4-c215-465f-abc5-db0d18b0b918",
        "colab": {
          "base_uri": "https://localhost:8080/",
          "height": 84
        }
      },
      "source": [
        "df.columns"
      ],
      "execution_count": 0,
      "outputs": [
        {
          "output_type": "execute_result",
          "data": {
            "text/plain": [
              "Index(['user_name', 'country', 'review_title', 'review_description',\n",
              "       'designation', 'points', 'price', 'province', 'region_1', 'region_2',\n",
              "       'winery', 'variety'],\n",
              "      dtype='object')"
            ]
          },
          "metadata": {
            "tags": []
          },
          "execution_count": 16
        }
      ]
    },
    {
      "cell_type": "code",
      "metadata": {
        "id": "POPS6cQSHaz4",
        "colab_type": "code",
        "outputId": "88a0565e-cea7-488c-ccea-c9e61cf0cc29",
        "colab": {
          "base_uri": "https://localhost:8080/",
          "height": 251
        }
      },
      "source": [
        "df_1 = df.loc[df.points.notna(),['review_title', 'review_description', 'points', 'variety']]\n",
        "display(df_1.head)"
      ],
      "execution_count": 0,
      "outputs": [
        {
          "output_type": "display_data",
          "data": {
            "text/plain": [
              "<bound method NDFrame.head of                                             review_title  ...                     variety\n",
              "0      Andrew Peace 2007 Peace Family Vineyard Chardo...  ...                  Chardonnay\n",
              "1      North by Northwest 2014 Red (Columbia Valley (...  ...                   Red Blend\n",
              "2                      Renato Ratti 2007 Conca  (Barolo)  ...                    Nebbiolo\n",
              "3      Domaine l'Ancienne Cure 2010 L'Abbaye White (B...  ...  Bordeaux-style White Blend\n",
              "4      Château du Cèdre 2012 Le Cèdre Vintage Malbec ...  ...                      Malbec\n",
              "...                                                  ...  ...                         ...\n",
              "82652                   Montecillo 2007 Crianza  (Rioja)  ...                 Tempranillo\n",
              "82653  Vivác Winery 2008 Single Vineyard Cabernet Sau...  ...          Cabernet Sauvignon\n",
              "82654  Domaine de la Madone 2014 Nouveau  (Beaujolais...  ...                       Gamay\n",
              "82655                  Château Beaumont 2011  Haut-Médoc  ...    Bordeaux-style Red Blend\n",
              "82656  Round Pond 2010 Estate Cabernet Sauvignon (Rut...  ...          Cabernet Sauvignon\n",
              "\n",
              "[82657 rows x 4 columns]>"
            ]
          },
          "metadata": {
            "tags": []
          }
        }
      ]
    },
    {
      "cell_type": "code",
      "metadata": {
        "id": "l_l-f5zyNrTP",
        "colab_type": "code",
        "colab": {}
      },
      "source": [
        "with open('/content/drive/My Drive/wine_categorization/model/News_dataset.pickle', 'wb') as output:\n",
        "    pickle.dump(df_1, output)"
      ],
      "execution_count": 0,
      "outputs": []
    },
    {
      "cell_type": "code",
      "metadata": {
        "id": "rPpSsD3-N_R5",
        "colab_type": "code",
        "colab": {}
      },
      "source": [
        "import pickle\n",
        "import pandas as pd\n",
        "import re\n",
        "import nltk\n",
        "from nltk.corpus import stopwords\n",
        "from nltk.stem import WordNetLemmatizer\n",
        "from sklearn.feature_extraction.text import TfidfVectorizer\n",
        "from sklearn.model_selection import train_test_split\n",
        "from sklearn.feature_selection import chi2\n",
        "import numpy as np"
      ],
      "execution_count": 0,
      "outputs": []
    },
    {
      "cell_type": "code",
      "metadata": {
        "id": "78nRlZabPA_y",
        "colab_type": "code",
        "colab": {}
      },
      "source": [
        "path_df = \"/content/drive/My Drive/wine_categorization/model/News_dataset.pickle\"\n",
        "\n",
        "with open(path_df, 'rb') as data:\n",
        "    df = pickle.load(data)"
      ],
      "execution_count": 0,
      "outputs": []
    },
    {
      "cell_type": "code",
      "metadata": {
        "id": "JEdeIyLAPTtL",
        "colab_type": "code",
        "outputId": "2a4ead74-1292-4a2d-dfaf-b086f577b68d",
        "colab": {
          "base_uri": "https://localhost:8080/",
          "height": 53
        }
      },
      "source": [
        "\n",
        "df.loc[6]['review_description']"
      ],
      "execution_count": 0,
      "outputs": [
        {
          "output_type": "execute_result",
          "data": {
            "text/plain": [
              "\"Half Syrah and half Cabernet Sauvignon, with 40% new French oak, this wine draws you in with its notes of blackberries, milk chocolate and anise. It's broad and fleshy in feel, with abundant coffee and cherry flavors backed by ample acidity.\""
            ]
          },
          "metadata": {
            "tags": []
          },
          "execution_count": 53
        }
      ]
    },
    {
      "cell_type": "code",
      "metadata": {
        "id": "keGN9U_WeNQS",
        "colab_type": "code",
        "colab": {}
      },
      "source": [
        "df['Description_Parsed_1'] = df['review_description'].str.replace('\"', '')"
      ],
      "execution_count": 0,
      "outputs": []
    },
    {
      "cell_type": "code",
      "metadata": {
        "id": "n9UUrOPTeoSJ",
        "colab_type": "code",
        "colab": {}
      },
      "source": [
        "df['Description_Parsed_2'] = df['Description_Parsed_1'].str.lower()"
      ],
      "execution_count": 0,
      "outputs": []
    },
    {
      "cell_type": "code",
      "metadata": {
        "id": "-dD4NLRTexfK",
        "colab_type": "code",
        "colab": {}
      },
      "source": [
        "punctuation_signs = list(\"?:!.,;\")\n",
        "df['Description_Parsed_3'] = df['Description_Parsed_2']\n",
        "\n",
        "for punct_sign in punctuation_signs:\n",
        "    df['Description_Parsed_3'] = df['Description_Parsed_3'].str.replace(punct_sign, '')"
      ],
      "execution_count": 0,
      "outputs": []
    },
    {
      "cell_type": "code",
      "metadata": {
        "id": "cr73GDq9fdlV",
        "colab_type": "code",
        "colab": {}
      },
      "source": [
        "\n",
        "df['Description_Parsed_4'] = df['Description_Parsed_3'].str.replace(\"'s\", \"\")"
      ],
      "execution_count": 0,
      "outputs": []
    },
    {
      "cell_type": "code",
      "metadata": {
        "id": "xFbOALUGkM8M",
        "colab_type": "code",
        "outputId": "d702813e-8e3d-4e91-bef6-b716da70773f",
        "colab": {
          "base_uri": "https://localhost:8080/",
          "height": 117
        }
      },
      "source": [
        "nltk.download('punkt')\n",
        "print(\"------------------------------------------------------------\")\n",
        "nltk.download('wordnet')"
      ],
      "execution_count": 0,
      "outputs": [
        {
          "output_type": "stream",
          "text": [
            "[nltk_data] Downloading package punkt to /root/nltk_data...\n",
            "[nltk_data]   Package punkt is already up-to-date!\n",
            "------------------------------------------------------------\n",
            "[nltk_data] Downloading package wordnet to /root/nltk_data...\n",
            "[nltk_data]   Package wordnet is already up-to-date!\n"
          ],
          "name": "stdout"
        },
        {
          "output_type": "execute_result",
          "data": {
            "text/plain": [
              "True"
            ]
          },
          "metadata": {
            "tags": []
          },
          "execution_count": 58
        }
      ]
    },
    {
      "cell_type": "code",
      "metadata": {
        "id": "S2xGwk1Wkp-d",
        "colab_type": "code",
        "colab": {}
      },
      "source": [
        "wordnet_lemmatizer = WordNetLemmatizer()"
      ],
      "execution_count": 0,
      "outputs": []
    },
    {
      "cell_type": "code",
      "metadata": {
        "id": "xWfBvWBEkwey",
        "colab_type": "code",
        "colab": {}
      },
      "source": [
        "nrows = len(df)\n",
        "lemmatized_text_list = []\n",
        "\n",
        "for row in range(0, nrows):\n",
        "    \n",
        "    # Create an empty list containing lemmatized words\n",
        "    lemmatized_list = []\n",
        "    \n",
        "    # Save the text and its words into an object\n",
        "    text = df.loc[row]['Description_Parsed_4']\n",
        "    text_words = text.split(\" \")\n",
        "\n",
        "    # Iterate through every word to lemmatize\n",
        "    for word in text_words:\n",
        "        lemmatized_list.append(wordnet_lemmatizer.lemmatize(word, pos=\"v\"))\n",
        "        \n",
        "    # Join the list\n",
        "    lemmatized_text = \" \".join(lemmatized_list)\n",
        "    \n",
        "    # Append to the list containing the texts\n",
        "    lemmatized_text_list.append(lemmatized_text)"
      ],
      "execution_count": 0,
      "outputs": []
    },
    {
      "cell_type": "code",
      "metadata": {
        "id": "4Xzstx5mlJ9Z",
        "colab_type": "code",
        "colab": {}
      },
      "source": [
        "df['Description_Parsed_5'] = lemmatized_text_list"
      ],
      "execution_count": 0,
      "outputs": []
    },
    {
      "cell_type": "code",
      "metadata": {
        "id": "pbpYZTdvlWZ7",
        "colab_type": "code",
        "outputId": "66728a99-92f0-4876-9b22-b0db79070ef4",
        "colab": {
          "base_uri": "https://localhost:8080/",
          "height": 67
        }
      },
      "source": [
        "nltk.download('stopwords')\n",
        "stop_words = list(stopwords.words('english'))\n",
        "stop_words[0:10]"
      ],
      "execution_count": 0,
      "outputs": [
        {
          "output_type": "stream",
          "text": [
            "[nltk_data] Downloading package stopwords to /root/nltk_data...\n",
            "[nltk_data]   Package stopwords is already up-to-date!\n"
          ],
          "name": "stdout"
        },
        {
          "output_type": "execute_result",
          "data": {
            "text/plain": [
              "['i', 'me', 'my', 'myself', 'we', 'our', 'ours', 'ourselves', 'you', \"you're\"]"
            ]
          },
          "metadata": {
            "tags": []
          },
          "execution_count": 62
        }
      ]
    },
    {
      "cell_type": "code",
      "metadata": {
        "id": "squ9H-EMluyw",
        "colab_type": "code",
        "outputId": "81343707-1f82-4daa-f096-bd20b5684d39",
        "colab": {
          "base_uri": "https://localhost:8080/",
          "height": 33
        }
      },
      "source": [
        "example = \"me eating a meal\"\n",
        "word = \"me\"\n",
        "\n",
        "# The regular expression is:\n",
        "regex = r\"\\b\" + word + r\"\\b\"  # we need to build it like that to work properly\n",
        "\n",
        "re.sub(regex, \"StopWord\", example)"
      ],
      "execution_count": 0,
      "outputs": [
        {
          "output_type": "execute_result",
          "data": {
            "text/plain": [
              "'StopWord eating a meal'"
            ]
          },
          "metadata": {
            "tags": []
          },
          "execution_count": 63
        }
      ]
    },
    {
      "cell_type": "code",
      "metadata": {
        "id": "SNffeAXfmITQ",
        "colab_type": "code",
        "colab": {}
      },
      "source": [
        "df['Description_Parsed_6'] = df['Description_Parsed_5']\n",
        "\n",
        "for stop_word in stop_words:\n",
        "\n",
        "    regex_stopword = r\"\\b\" + stop_word + r\"\\b\"\n",
        "    df['Description_Parsed_6'] = df['Description_Parsed_6'].str.replace(regex_stopword, '')"
      ],
      "execution_count": 0,
      "outputs": []
    },
    {
      "cell_type": "code",
      "metadata": {
        "id": "hLEu_RDHm9GZ",
        "colab_type": "code",
        "outputId": "5101297d-2b58-4ab1-dc6b-a91710e6d783",
        "colab": {
          "base_uri": "https://localhost:8080/",
          "height": 53
        }
      },
      "source": [
        "df.loc[5]['review_description']"
      ],
      "execution_count": 0,
      "outputs": [
        {
          "output_type": "execute_result",
          "data": {
            "text/plain": [
              "\"Strident aromas of licorice, herbs, berries and mint make it interesting, while the palate is light and fresh, with raspberry and red currant flavors. There's not a lot of heft, extract or depth to the wine, but it's likable and unhindered by excess oak and such. Enjoyable due to its unchallenging simplicity.\""
            ]
          },
          "metadata": {
            "tags": []
          },
          "execution_count": 65
        }
      ]
    },
    {
      "cell_type": "code",
      "metadata": {
        "id": "rjmKe_yanJGE",
        "colab_type": "code",
        "outputId": "1340c085-e208-4213-e42d-5bd039d3bbd9",
        "colab": {
          "base_uri": "https://localhost:8080/",
          "height": 53
        }
      },
      "source": [
        "df.loc[5]['Description_Parsed_1']"
      ],
      "execution_count": 0,
      "outputs": [
        {
          "output_type": "execute_result",
          "data": {
            "text/plain": [
              "\"Strident aromas of licorice, herbs, berries and mint make it interesting, while the palate is light and fresh, with raspberry and red currant flavors. There's not a lot of heft, extract or depth to the wine, but it's likable and unhindered by excess oak and such. Enjoyable due to its unchallenging simplicity.\""
            ]
          },
          "metadata": {
            "tags": []
          },
          "execution_count": 66
        }
      ]
    },
    {
      "cell_type": "code",
      "metadata": {
        "id": "lknMcSPonllY",
        "colab_type": "code",
        "outputId": "0466819a-258a-4540-f540-152ab483f843",
        "colab": {
          "base_uri": "https://localhost:8080/",
          "height": 53
        }
      },
      "source": [
        "df.loc[5]['Description_Parsed_2']"
      ],
      "execution_count": 0,
      "outputs": [
        {
          "output_type": "execute_result",
          "data": {
            "text/plain": [
              "\"strident aromas of licorice, herbs, berries and mint make it interesting, while the palate is light and fresh, with raspberry and red currant flavors. there's not a lot of heft, extract or depth to the wine, but it's likable and unhindered by excess oak and such. enjoyable due to its unchallenging simplicity.\""
            ]
          },
          "metadata": {
            "tags": []
          },
          "execution_count": 67
        }
      ]
    },
    {
      "cell_type": "code",
      "metadata": {
        "id": "2Y-0qPU8nuOw",
        "colab_type": "code",
        "outputId": "314253f9-3ca4-4244-8969-47801e734a6a",
        "colab": {
          "base_uri": "https://localhost:8080/",
          "height": 53
        }
      },
      "source": [
        "df.loc[5]['Description_Parsed_3']"
      ],
      "execution_count": 0,
      "outputs": [
        {
          "output_type": "execute_result",
          "data": {
            "text/plain": [
              "\"strident aromas of licorice herbs berries and mint make it interesting while the palate is light and fresh with raspberry and red currant flavors there's not a lot of heft extract or depth to the wine but it's likable and unhindered by excess oak and such enjoyable due to its unchallenging simplicity\""
            ]
          },
          "metadata": {
            "tags": []
          },
          "execution_count": 68
        }
      ]
    },
    {
      "cell_type": "code",
      "metadata": {
        "id": "-AlQXdZfn3NX",
        "colab_type": "code",
        "outputId": "952007da-9e11-4a7e-89fd-119d2ac65c15",
        "colab": {
          "base_uri": "https://localhost:8080/",
          "height": 53
        }
      },
      "source": [
        "df.loc[5]['Description_Parsed_4']"
      ],
      "execution_count": 0,
      "outputs": [
        {
          "output_type": "execute_result",
          "data": {
            "text/plain": [
              "'strident aromas of licorice herbs berries and mint make it interesting while the palate is light and fresh with raspberry and red currant flavors there not a lot of heft extract or depth to the wine but it likable and unhindered by excess oak and such enjoyable due to its unchallenging simplicity'"
            ]
          },
          "metadata": {
            "tags": []
          },
          "execution_count": 69
        }
      ]
    },
    {
      "cell_type": "code",
      "metadata": {
        "id": "qBTsjqbkoBwB",
        "colab_type": "code",
        "outputId": "a96e446b-4caa-49a0-dfd2-61a332a59d80",
        "colab": {
          "base_uri": "https://localhost:8080/",
          "height": 53
        }
      },
      "source": [
        "df.loc[5]['Description_Parsed_5']"
      ],
      "execution_count": 0,
      "outputs": [
        {
          "output_type": "execute_result",
          "data": {
            "text/plain": [
              "'strident aromas of licorice herbs berry and mint make it interest while the palate be light and fresh with raspberry and red currant flavor there not a lot of heft extract or depth to the wine but it likable and unhindered by excess oak and such enjoyable due to its unchallenging simplicity'"
            ]
          },
          "metadata": {
            "tags": []
          },
          "execution_count": 70
        }
      ]
    },
    {
      "cell_type": "code",
      "metadata": {
        "id": "2qdTa_jjoGCT",
        "colab_type": "code",
        "colab": {}
      },
      "source": [
        "df['Description_Parsed_7']=df['Description_Parsed_6'].str.replace(\"'\",\"\")"
      ],
      "execution_count": 0,
      "outputs": []
    },
    {
      "cell_type": "code",
      "metadata": {
        "id": "oM8e-jNCpBxW",
        "colab_type": "code",
        "outputId": "e2d4290a-08fd-4fc8-ed2f-7227ad0fed1b",
        "colab": {
          "base_uri": "https://localhost:8080/",
          "height": 53
        }
      },
      "source": [
        "df.loc[6]['Description_Parsed_7']"
      ],
      "execution_count": 0,
      "outputs": [
        {
          "output_type": "execute_result",
          "data": {
            "text/plain": [
              "'half syrah  half cabernet sauvignon  40% new french oak  wine draw     note  blackberry milk chocolate  anise  broad  fleshy  feel  abundant coffee  cherry flavor back  ample acidity'"
            ]
          },
          "metadata": {
            "tags": []
          },
          "execution_count": 72
        }
      ]
    },
    {
      "cell_type": "code",
      "metadata": {
        "id": "Co8Alz3RqCTU",
        "colab_type": "code",
        "outputId": "efc203be-1433-4cbc-ad6b-ca9118448728",
        "colab": {
          "base_uri": "https://localhost:8080/",
          "height": 164
        }
      },
      "source": [
        "df.head(1)"
      ],
      "execution_count": 0,
      "outputs": [
        {
          "output_type": "execute_result",
          "data": {
            "text/html": [
              "<div>\n",
              "<style scoped>\n",
              "    .dataframe tbody tr th:only-of-type {\n",
              "        vertical-align: middle;\n",
              "    }\n",
              "\n",
              "    .dataframe tbody tr th {\n",
              "        vertical-align: top;\n",
              "    }\n",
              "\n",
              "    .dataframe thead th {\n",
              "        text-align: right;\n",
              "    }\n",
              "</style>\n",
              "<table border=\"1\" class=\"dataframe\">\n",
              "  <thead>\n",
              "    <tr style=\"text-align: right;\">\n",
              "      <th></th>\n",
              "      <th>review_title</th>\n",
              "      <th>review_description</th>\n",
              "      <th>points</th>\n",
              "      <th>variety</th>\n",
              "      <th>Description_Parsed_1</th>\n",
              "      <th>Description_Parsed_2</th>\n",
              "      <th>Description_Parsed_3</th>\n",
              "      <th>Description_Parsed_4</th>\n",
              "      <th>Description_Parsed_5</th>\n",
              "      <th>Description_Parsed_6</th>\n",
              "      <th>Description_Parsed_7</th>\n",
              "    </tr>\n",
              "  </thead>\n",
              "  <tbody>\n",
              "    <tr>\n",
              "      <th>0</th>\n",
              "      <td>Andrew Peace 2007 Peace Family Vineyard Chardo...</td>\n",
              "      <td>Classic Chardonnay aromas of apple, pear and h...</td>\n",
              "      <td>83</td>\n",
              "      <td>Chardonnay</td>\n",
              "      <td>Classic Chardonnay aromas of apple, pear and h...</td>\n",
              "      <td>classic chardonnay aromas of apple, pear and h...</td>\n",
              "      <td>classic chardonnay aromas of apple pear and ha...</td>\n",
              "      <td>classic chardonnay aromas of apple pear and ha...</td>\n",
              "      <td>classic chardonnay aromas of apple pear and ha...</td>\n",
              "      <td>classic chardonnay aromas  apple pear  hay lea...</td>\n",
              "      <td>classic chardonnay aromas  apple pear  hay lea...</td>\n",
              "    </tr>\n",
              "  </tbody>\n",
              "</table>\n",
              "</div>"
            ],
            "text/plain": [
              "                                        review_title  ...                               Description_Parsed_7\n",
              "0  Andrew Peace 2007 Peace Family Vineyard Chardo...  ...  classic chardonnay aromas  apple pear  hay lea...\n",
              "\n",
              "[1 rows x 11 columns]"
            ]
          },
          "metadata": {
            "tags": []
          },
          "execution_count": 73
        }
      ]
    },
    {
      "cell_type": "code",
      "metadata": {
        "id": "rKMbdj-t9TZI",
        "colab_type": "code",
        "colab": {}
      },
      "source": [
        "list_columns = [\"review_title\", \"review_description\", \"Description_Parsed_7\", \"points\", \"variety\"]\n",
        "df = df[list_columns]\n",
        "\n",
        "df = df.rename(columns={'Description_Parsed_7': 'Description_Parsed'})"
      ],
      "execution_count": 0,
      "outputs": []
    },
    {
      "cell_type": "code",
      "metadata": {
        "id": "C_EtawuY-blj",
        "colab_type": "code",
        "outputId": "c753ce17-1688-4fe6-9c28-6e33c26e3fd7",
        "colab": {
          "base_uri": "https://localhost:8080/",
          "height": 94
        }
      },
      "source": [
        "df.head(1)"
      ],
      "execution_count": 0,
      "outputs": [
        {
          "output_type": "execute_result",
          "data": {
            "text/html": [
              "<div>\n",
              "<style scoped>\n",
              "    .dataframe tbody tr th:only-of-type {\n",
              "        vertical-align: middle;\n",
              "    }\n",
              "\n",
              "    .dataframe tbody tr th {\n",
              "        vertical-align: top;\n",
              "    }\n",
              "\n",
              "    .dataframe thead th {\n",
              "        text-align: right;\n",
              "    }\n",
              "</style>\n",
              "<table border=\"1\" class=\"dataframe\">\n",
              "  <thead>\n",
              "    <tr style=\"text-align: right;\">\n",
              "      <th></th>\n",
              "      <th>review_title</th>\n",
              "      <th>review_description</th>\n",
              "      <th>Description_Parsed</th>\n",
              "      <th>points</th>\n",
              "      <th>variety</th>\n",
              "    </tr>\n",
              "  </thead>\n",
              "  <tbody>\n",
              "    <tr>\n",
              "      <th>0</th>\n",
              "      <td>Andrew Peace 2007 Peace Family Vineyard Chardo...</td>\n",
              "      <td>Classic Chardonnay aromas of apple, pear and h...</td>\n",
              "      <td>classic chardonnay aromas  apple pear  hay lea...</td>\n",
              "      <td>83</td>\n",
              "      <td>Chardonnay</td>\n",
              "    </tr>\n",
              "  </tbody>\n",
              "</table>\n",
              "</div>"
            ],
            "text/plain": [
              "                                        review_title  ...     variety\n",
              "0  Andrew Peace 2007 Peace Family Vineyard Chardo...  ...  Chardonnay\n",
              "\n",
              "[1 rows x 5 columns]"
            ]
          },
          "metadata": {
            "tags": []
          },
          "execution_count": 77
        }
      ]
    },
    {
      "cell_type": "code",
      "metadata": {
        "id": "l3j36AER-v1q",
        "colab_type": "code",
        "colab": {}
      },
      "source": [
        "category_codes = {\n",
        "    'business': 0,\n",
        "    'entertainment': 1,\n",
        "    'politics': 2,\n",
        "    'sport': 3,\n",
        "    'tech': 4\n",
        "}"
      ],
      "execution_count": 0,
      "outputs": []
    },
    {
      "cell_type": "code",
      "metadata": {
        "id": "Mgj8lYFQADe-",
        "colab_type": "code",
        "colab": {}
      },
      "source": [
        "variety_codes = {\n",
        "    'Bordeaux-style Red Blend':0,\n",
        "    'Bordeaux-style White Blend':1,\n",
        "    'Cabernet Franc': 2,\n",
        "    'Cabernet Sauvignon':3,\n",
        "    'Champagne Blend':4,\n",
        "    'Chardonnay':5,\n",
        "    'Gamay':6,\n",
        "    'Gewürztraminer':7,\n",
        "    'Grüner Veltliner':8,\n",
        "    'Malbec':9,\n",
        "    'Merlot':10,\n",
        "    'Nebbiolo':11,\n",
        "    'Pinot Grigio':12,\n",
        "    'Pinot Gris':13,\n",
        "    'Pinot Noir':14,\n",
        "    'Portuguese Red':15,\n",
        "    'Portuguese White':16,\n",
        "    'Red Blend':17,\n",
        "    'Rhône-style Red Blend':18,\n",
        "    'Riesling':19,\n",
        "    'Rosé':20,\n",
        "    'Sangiovese':21,\n",
        "    'Sauvignon Blanc':22,\n",
        "    'Sparkling Blend':23,\n",
        "    'Syrah':24,\n",
        "    'Tempranillo':25,\n",
        "    'White Blend':26,\n",
        "    'Zinfandel':27\n",
        "}"
      ],
      "execution_count": 0,
      "outputs": []
    },
    {
      "cell_type": "code",
      "metadata": {
        "id": "dm9qYf-DDmwJ",
        "colab_type": "code",
        "colab": {}
      },
      "source": [
        "# Category mapping\n",
        "df['Variety_Code'] = df['variety']\n",
        "df = df.replace({'Variety_Code':variety_codes})"
      ],
      "execution_count": 0,
      "outputs": []
    },
    {
      "cell_type": "code",
      "metadata": {
        "id": "8JgCrNk6D8cH",
        "colab_type": "code",
        "outputId": "5fad2340-b4a1-4424-d1f2-74df6f6aa61c",
        "colab": {
          "base_uri": "https://localhost:8080/",
          "height": 745
        }
      },
      "source": [
        "df.head(15)"
      ],
      "execution_count": 0,
      "outputs": [
        {
          "output_type": "execute_result",
          "data": {
            "text/html": [
              "<div>\n",
              "<style scoped>\n",
              "    .dataframe tbody tr th:only-of-type {\n",
              "        vertical-align: middle;\n",
              "    }\n",
              "\n",
              "    .dataframe tbody tr th {\n",
              "        vertical-align: top;\n",
              "    }\n",
              "\n",
              "    .dataframe thead th {\n",
              "        text-align: right;\n",
              "    }\n",
              "</style>\n",
              "<table border=\"1\" class=\"dataframe\">\n",
              "  <thead>\n",
              "    <tr style=\"text-align: right;\">\n",
              "      <th></th>\n",
              "      <th>review_title</th>\n",
              "      <th>review_description</th>\n",
              "      <th>Description_Parsed</th>\n",
              "      <th>points</th>\n",
              "      <th>variety</th>\n",
              "      <th>Variety_Code</th>\n",
              "    </tr>\n",
              "  </thead>\n",
              "  <tbody>\n",
              "    <tr>\n",
              "      <th>0</th>\n",
              "      <td>Andrew Peace 2007 Peace Family Vineyard Chardo...</td>\n",
              "      <td>Classic Chardonnay aromas of apple, pear and h...</td>\n",
              "      <td>classic chardonnay aromas  apple pear  hay lea...</td>\n",
              "      <td>83</td>\n",
              "      <td>Chardonnay</td>\n",
              "      <td>5</td>\n",
              "    </tr>\n",
              "    <tr>\n",
              "      <th>1</th>\n",
              "      <td>North by Northwest 2014 Red (Columbia Valley (...</td>\n",
              "      <td>This wine is near equal parts Syrah and Merlot...</td>\n",
              "      <td>wine  near equal part syrah  merlot   balance...</td>\n",
              "      <td>89</td>\n",
              "      <td>Red Blend</td>\n",
              "      <td>17</td>\n",
              "    </tr>\n",
              "    <tr>\n",
              "      <th>2</th>\n",
              "      <td>Renato Ratti 2007 Conca  (Barolo)</td>\n",
              "      <td>Barolo Conca opens with inky dark concentratio...</td>\n",
              "      <td>barolo conca open  inky dark concentration  so...</td>\n",
              "      <td>94</td>\n",
              "      <td>Nebbiolo</td>\n",
              "      <td>11</td>\n",
              "    </tr>\n",
              "    <tr>\n",
              "      <th>3</th>\n",
              "      <td>Domaine l'Ancienne Cure 2010 L'Abbaye White (B...</td>\n",
              "      <td>It's impressive what a small addition of Sauvi...</td>\n",
              "      <td>impressive   small addition  sauvignon gris  ...</td>\n",
              "      <td>87</td>\n",
              "      <td>Bordeaux-style White Blend</td>\n",
              "      <td>1</td>\n",
              "    </tr>\n",
              "    <tr>\n",
              "      <th>4</th>\n",
              "      <td>Château du Cèdre 2012 Le Cèdre Vintage Malbec ...</td>\n",
              "      <td>This ripe, sweet wine is rich and full of drie...</td>\n",
              "      <td>ripe sweet wine  rich  full  dry  fresh fruit...</td>\n",
              "      <td>88</td>\n",
              "      <td>Malbec</td>\n",
              "      <td>9</td>\n",
              "    </tr>\n",
              "    <tr>\n",
              "      <th>5</th>\n",
              "      <td>Andean 2005 Finca La Escondida Reserva Caberne...</td>\n",
              "      <td>Strident aromas of licorice, herbs, berries an...</td>\n",
              "      <td>strident aromas  licorice herbs berry  mint ma...</td>\n",
              "      <td>85</td>\n",
              "      <td>Cabernet Sauvignon</td>\n",
              "      <td>3</td>\n",
              "    </tr>\n",
              "    <tr>\n",
              "      <th>6</th>\n",
              "      <td>Gordon Estate 2012 Tradition Red (Columbia Val...</td>\n",
              "      <td>Half Syrah and half Cabernet Sauvignon, with 4...</td>\n",
              "      <td>half syrah  half cabernet sauvignon  40% new f...</td>\n",
              "      <td>91</td>\n",
              "      <td>Red Blend</td>\n",
              "      <td>17</td>\n",
              "    </tr>\n",
              "    <tr>\n",
              "      <th>7</th>\n",
              "      <td>Rock Wall 2014 Monte Rosso Reserve Zinfandel (...</td>\n",
              "      <td>High-toned red fruit stars in this wine, a nic...</td>\n",
              "      <td>high-toned red fruit star   wine  nice show   ...</td>\n",
              "      <td>90</td>\n",
              "      <td>Zinfandel</td>\n",
              "      <td>27</td>\n",
              "    </tr>\n",
              "    <tr>\n",
              "      <th>8</th>\n",
              "      <td>Elizabeth Chambers 2014 Falcon Glen Vineyard P...</td>\n",
              "      <td>Displaying typical McMinnville AVA subtlety, t...</td>\n",
              "      <td>display typical mcminnville ava subtlety  fram...</td>\n",
              "      <td>91</td>\n",
              "      <td>Pinot Noir</td>\n",
              "      <td>14</td>\n",
              "    </tr>\n",
              "    <tr>\n",
              "      <th>9</th>\n",
              "      <td>Mannucci Droandi 2009 Ceppeto Riserva  (Chiant...</td>\n",
              "      <td>This blend of Sangiovese and 10% Merlot opens ...</td>\n",
              "      <td>blend  sangiovese  10% merlot open  aromas  f...</td>\n",
              "      <td>86</td>\n",
              "      <td>Red Blend</td>\n",
              "      <td>17</td>\n",
              "    </tr>\n",
              "    <tr>\n",
              "      <th>10</th>\n",
              "      <td>Cuvaison 2014 Estate Grown Sauvignon Blanc (Ca...</td>\n",
              "      <td>With an alluring bouquet of fresh-cut jasmine ...</td>\n",
              "      <td>allure bouquet  fresh-cut jasmine  citrus   ...</td>\n",
              "      <td>90</td>\n",
              "      <td>Sauvignon Blanc</td>\n",
              "      <td>22</td>\n",
              "    </tr>\n",
              "    <tr>\n",
              "      <th>11</th>\n",
              "      <td>Dog Point 2013 Chardonnay (Marlborough)</td>\n",
              "      <td>This starts off a bit funky, with struck match...</td>\n",
              "      <td>start   bite funky  strike match aromas parti...</td>\n",
              "      <td>90</td>\n",
              "      <td>Chardonnay</td>\n",
              "      <td>5</td>\n",
              "    </tr>\n",
              "    <tr>\n",
              "      <th>12</th>\n",
              "      <td>Henry Fessy 2015  Brouilly</td>\n",
              "      <td>Produced from Henry Fessy's own cru vineyards,...</td>\n",
              "      <td>produce  henry fessy  cru vineyards  wine  fru...</td>\n",
              "      <td>86</td>\n",
              "      <td>Gamay</td>\n",
              "      <td>6</td>\n",
              "    </tr>\n",
              "    <tr>\n",
              "      <th>13</th>\n",
              "      <td>H. &amp; M. Hofer 2016 Grüner Veltliner (Weinland ...</td>\n",
              "      <td>A creamy, rounded note hits the nose first, fo...</td>\n",
              "      <td>creamy round note hit  nose first follow  aro...</td>\n",
              "      <td>88</td>\n",
              "      <td>Grüner Veltliner</td>\n",
              "      <td>8</td>\n",
              "    </tr>\n",
              "    <tr>\n",
              "      <th>14</th>\n",
              "      <td>Lapostolle 2007 Clos Apalta Red (Colchagua Val...</td>\n",
              "      <td>Outstanding as always. Right from the first ta...</td>\n",
              "      <td>outstanding  always right   first take    elev...</td>\n",
              "      <td>93</td>\n",
              "      <td>Red Blend</td>\n",
              "      <td>17</td>\n",
              "    </tr>\n",
              "  </tbody>\n",
              "</table>\n",
              "</div>"
            ],
            "text/plain": [
              "                                         review_title  ... Variety_Code\n",
              "0   Andrew Peace 2007 Peace Family Vineyard Chardo...  ...            5\n",
              "1   North by Northwest 2014 Red (Columbia Valley (...  ...           17\n",
              "2                   Renato Ratti 2007 Conca  (Barolo)  ...           11\n",
              "3   Domaine l'Ancienne Cure 2010 L'Abbaye White (B...  ...            1\n",
              "4   Château du Cèdre 2012 Le Cèdre Vintage Malbec ...  ...            9\n",
              "5   Andean 2005 Finca La Escondida Reserva Caberne...  ...            3\n",
              "6   Gordon Estate 2012 Tradition Red (Columbia Val...  ...           17\n",
              "7   Rock Wall 2014 Monte Rosso Reserve Zinfandel (...  ...           27\n",
              "8   Elizabeth Chambers 2014 Falcon Glen Vineyard P...  ...           14\n",
              "9   Mannucci Droandi 2009 Ceppeto Riserva  (Chiant...  ...           17\n",
              "10  Cuvaison 2014 Estate Grown Sauvignon Blanc (Ca...  ...           22\n",
              "11            Dog Point 2013 Chardonnay (Marlborough)  ...            5\n",
              "12                         Henry Fessy 2015  Brouilly  ...            6\n",
              "13  H. & M. Hofer 2016 Grüner Veltliner (Weinland ...  ...            8\n",
              "14  Lapostolle 2007 Clos Apalta Red (Colchagua Val...  ...           17\n",
              "\n",
              "[15 rows x 6 columns]"
            ]
          },
          "metadata": {
            "tags": []
          },
          "execution_count": 84
        }
      ]
    },
    {
      "cell_type": "code",
      "metadata": {
        "id": "luW9NL7aEmqr",
        "colab_type": "code",
        "colab": {}
      },
      "source": [
        "X_train, X_test, y_train, y_test = train_test_split(df['Description_Parsed'], \n",
        "                                                    df['Variety_Code'], \n",
        "                                                    test_size=0.2, \n",
        "                                                    random_state=8)"
      ],
      "execution_count": 0,
      "outputs": []
    },
    {
      "cell_type": "code",
      "metadata": {
        "id": "Enrh22uwE9ta",
        "colab_type": "code",
        "colab": {}
      },
      "source": [
        "# Parameter election\n",
        "ngram_range = (1,2)\n",
        "min_df = 10\n",
        "max_df = 1.\n",
        "max_features = 300"
      ],
      "execution_count": 0,
      "outputs": []
    },
    {
      "cell_type": "code",
      "metadata": {
        "id": "uzmWieseFlAd",
        "colab_type": "code",
        "outputId": "98d6370c-50df-4e32-b794-812c5e63e2eb",
        "colab": {
          "base_uri": "https://localhost:8080/",
          "height": 84
        }
      },
      "source": [
        "tfidf = TfidfVectorizer(encoding='utf-8',\n",
        "                        ngram_range=ngram_range,\n",
        "                        stop_words=None,\n",
        "                        lowercase=False,\n",
        "                        max_df=max_df,\n",
        "                        min_df=min_df,\n",
        "                        max_features=max_features,\n",
        "                        norm='l2',\n",
        "                        sublinear_tf=True)\n",
        "                        \n",
        "features_train = tfidf.fit_transform(X_train).toarray()\n",
        "labels_train = y_train\n",
        "print(features_train.shape)\n",
        "print(labels_train.shape)\n",
        "features_test = tfidf.transform(X_test).toarray()\n",
        "labels_test = y_test\n",
        "print(features_test.shape)\n",
        "print(labels_test.shape)"
      ],
      "execution_count": 0,
      "outputs": [
        {
          "output_type": "stream",
          "text": [
            "(66125, 300)\n",
            "(66125,)\n",
            "(16532, 300)\n",
            "(16532,)\n"
          ],
          "name": "stdout"
        }
      ]
    },
    {
      "cell_type": "code",
      "metadata": {
        "id": "-r0xOiB9GLE4",
        "colab_type": "code",
        "outputId": "e8129ac8-32f6-4f5a-fdfc-59b2091414ec",
        "colab": {
          "base_uri": "https://localhost:8080/",
          "height": 1000
        }
      },
      "source": [
        "from sklearn.feature_selection import chi2\n",
        "import numpy as np\n",
        "\n",
        "for Product, category_id in sorted(variety_codes.items()):\n",
        "    features_chi2 = chi2(features_train, labels_train == category_id)\n",
        "    indices = np.argsort(features_chi2[0])\n",
        "    feature_names = np.array(tfidf.get_feature_names())[indices]\n",
        "    unigrams = [v for v in feature_names if len(v.split(' ')) == 1]\n",
        "    bigrams = [v for v in feature_names if len(v.split(' ')) == 2]\n",
        "    print(\"# '{}' category:\".format(Product))\n",
        "    print(\"  . Most correlated unigrams:\\n. {}\".format('\\n. '.join(unigrams[-5:])))\n",
        "    print(\"  . Most correlated bigrams:\\n. {}\".format('\\n. '.join(bigrams[-2:])))\n",
        "    print(\"\")"
      ],
      "execution_count": 0,
      "outputs": [
        {
          "output_type": "stream",
          "text": [
            "# 'Bordeaux-style Red Blend' category:\n",
            "  . Most correlated unigrams:\n",
            ". structure\n",
            ". cabernet\n",
            ". wood\n",
            ". merlot\n",
            ". franc\n",
            "  . Most correlated bigrams:\n",
            ". cabernet franc\n",
            ". black currant\n",
            "\n",
            "# 'Bordeaux-style White Blend' category:\n",
            "  . Most correlated unigrams:\n",
            ". crisp\n",
            ". apricot\n",
            ". aftertaste\n",
            ". character\n",
            ". blanc\n",
            "  . Most correlated bigrams:\n",
            ". black cherry\n",
            ". ready drink\n",
            "\n",
            "# 'Cabernet Franc' category:\n",
            "  . Most correlated unigrams:\n",
            ". red\n",
            ". herb\n",
            ". cherry\n",
            ". cabernet\n",
            ". franc\n",
            "  . Most correlated bigrams:\n",
            ". cherry flavor\n",
            ". cabernet franc\n",
            "\n",
            "# 'Cabernet Sauvignon' category:\n",
            "  . Most correlated unigrams:\n",
            ". currant\n",
            ". cedar\n",
            ". blackberry\n",
            ". cabernet\n",
            ". cassis\n",
            "  . Most correlated bigrams:\n",
            ". pinot noir\n",
            ". black currant\n",
            "\n",
            "# 'Champagne Blend' category:\n",
            "  . Most correlated unigrams:\n",
            ". bottle\n",
            ". mature\n",
            ". crisp\n",
            ". ready\n",
            ". aftertaste\n",
            "  . Most correlated bigrams:\n",
            ". pinot noir\n",
            ". ready drink\n",
            "\n",
            "# 'Chardonnay' category:\n",
            "  . Most correlated unigrams:\n",
            ". tropical\n",
            ". pineapple\n",
            ". apple\n",
            ". butter\n",
            ". chardonnay\n",
            "  . Most correlated bigrams:\n",
            ". black fruit\n",
            ". black cherry\n",
            "\n",
            "# 'Gamay' category:\n",
            "  . Most correlated unigrams:\n",
            ". red\n",
            ". fruity\n",
            ". 2017\n",
            ". fruitiness\n",
            ". structure\n",
            "  . Most correlated bigrams:\n",
            ". red cherry\n",
            ". cherry fruit\n",
            "\n",
            "# 'Gewürztraminer' category:\n",
            "  . Most correlated unigrams:\n",
            ". floral\n",
            ". peach\n",
            ". perfume\n",
            ". honey\n",
            ". rise\n",
            "  . Most correlated bigrams:\n",
            ". black fruit\n",
            ". black cherry\n",
            "\n",
            "# 'Grüner Veltliner' category:\n",
            "  . Most correlated unigrams:\n",
            ". refresh\n",
            ". peppery\n",
            ". green\n",
            ". freshness\n",
            ". pear\n",
            "  . Most correlated bigrams:\n",
            ". black cherry\n",
            ". white pepper\n",
            "\n",
            "# 'Malbec' category:\n",
            "  . Most correlated unigrams:\n",
            ". feel\n",
            ". herbal\n",
            ". plum\n",
            ". berry\n",
            ". malbec\n",
            "  . Most correlated bigrams:\n",
            ". berry fruit\n",
            ". black fruit\n",
            "\n",
            "# 'Merlot' category:\n",
            "  . Most correlated unigrams:\n",
            ". cherries\n",
            ". apple\n",
            ". plum\n",
            ". cherry\n",
            ". merlot\n",
            "  . Most correlated bigrams:\n",
            ". black cherry\n",
            ". cherry flavor\n",
            "\n",
            "# 'Nebbiolo' category:\n",
            "  . Most correlated unigrams:\n",
            ". espresso\n",
            ". leather\n",
            ". licorice\n",
            ". rise\n",
            ". alongside\n",
            "  . Most correlated bigrams:\n",
            ". white pepper\n",
            ". palate offer\n",
            "\n",
            "# 'Pinot Grigio' category:\n",
            "  . Most correlated unigrams:\n",
            ". peach\n",
            ". apple\n",
            ". pear\n",
            ". white\n",
            ". pinot\n",
            "  . Most correlated bigrams:\n",
            ". black cherry\n",
            ". palate offer\n",
            "\n",
            "# 'Pinot Gris' category:\n",
            "  . Most correlated unigrams:\n",
            ". freshness\n",
            ". apple\n",
            ". melon\n",
            ". pinot\n",
            ". pear\n",
            "  . Most correlated bigrams:\n",
            ". black fruit\n",
            ". black cherry\n",
            "\n",
            "# 'Pinot Noir' category:\n",
            "  . Most correlated unigrams:\n",
            ". silky\n",
            ". cranberry\n",
            ". cola\n",
            ". noir\n",
            ". pinot\n",
            "  . Most correlated bigrams:\n",
            ". cherry fruit\n",
            ". pinot noir\n",
            "\n",
            "# 'Portuguese Red' category:\n",
            "  . Most correlated unigrams:\n",
            ". structure\n",
            ". dense\n",
            ". wood\n",
            ". age\n",
            ". ready\n",
            "  . Most correlated bigrams:\n",
            ". ready drink\n",
            ". black fruit\n",
            "\n",
            "# 'Portuguese White' category:\n",
            "  . Most correlated unigrams:\n",
            ". perfume\n",
            ". attractive\n",
            ". fruity\n",
            ". ready\n",
            ". crisp\n",
            "  . Most correlated bigrams:\n",
            ". black cherry\n",
            ". ready drink\n",
            "\n",
            "# 'Red Blend' category:\n",
            "  . Most correlated unigrams:\n",
            ". merlot\n",
            ". cabernet\n",
            ". syrah\n",
            ". sangiovese\n",
            ". blend\n",
            "  . Most correlated bigrams:\n",
            ". palate offer\n",
            ". cabernet sauvignon\n",
            "\n",
            "# 'Rhône-style Red Blend' category:\n",
            "  . Most correlated unigrams:\n",
            ". black\n",
            ". blueberry\n",
            ". next\n",
            ". blend\n",
            ". syrah\n",
            "  . Most correlated bigrams:\n",
            ". black pepper\n",
            ". cherry fruit\n",
            "\n",
            "# 'Riesling' category:\n",
            "  . Most correlated unigrams:\n",
            ". peach\n",
            ". lime\n",
            ". lemon\n",
            ". honey\n",
            ". riesling\n",
            "  . Most correlated bigrams:\n",
            ". black fruit\n",
            ". black cherry\n",
            "\n",
            "# 'Rosé' category:\n",
            "  . Most correlated unigrams:\n",
            ". crisp\n",
            ". red\n",
            ". aftertaste\n",
            ". color\n",
            ". strawberry\n",
            "  . Most correlated bigrams:\n",
            ". red berry\n",
            ". red fruit\n",
            "\n",
            "# 'Sangiovese' category:\n",
            "  . Most correlated unigrams:\n",
            ". cherry\n",
            ". leather\n",
            ". espresso\n",
            ". alongside\n",
            ". sangiovese\n",
            "  . Most correlated bigrams:\n",
            ". black cherry\n",
            ". palate offer\n",
            "\n",
            "# 'Sauvignon Blanc' category:\n",
            "  . Most correlated unigrams:\n",
            ". green\n",
            ". sauvignon\n",
            ". lime\n",
            ". grapefruit\n",
            ". blanc\n",
            "  . Most correlated bigrams:\n",
            ". black fruit\n",
            ". black cherry\n",
            "\n",
            "# 'Sparkling Blend' category:\n",
            "  . Most correlated unigrams:\n",
            ". creamy\n",
            ". pinot\n",
            ". chardonnay\n",
            ". noir\n",
            ". apple\n",
            "  . Most correlated bigrams:\n",
            ". black cherry\n",
            ". pinot noir\n",
            "\n",
            "# 'Syrah' category:\n",
            "  . Most correlated unigrams:\n",
            ". smoke\n",
            ". blackberry\n",
            ". blueberry\n",
            ". pepper\n",
            ". syrah\n",
            "  . Most correlated bigrams:\n",
            ". white pepper\n",
            ". black pepper\n",
            "\n",
            "# 'Tempranillo' category:\n",
            "  . Most correlated unigrams:\n",
            ". aromas\n",
            ". oaky\n",
            ". feel\n",
            ". plum\n",
            ". berry\n",
            "  . Most correlated bigrams:\n",
            ". black fruit\n",
            ". berry fruit\n",
            "\n",
            "# 'White Blend' category:\n",
            "  . Most correlated unigrams:\n",
            ". peach\n",
            ". apricot\n",
            ". blend\n",
            ". white\n",
            ". blanc\n",
            "  . Most correlated bigrams:\n",
            ". black cherry\n",
            ". palate offer\n",
            "\n",
            "# 'Zinfandel' category:\n",
            "  . Most correlated unigrams:\n",
            ". wild\n",
            ". pepper\n",
            ". blackberry\n",
            ". high\n",
            ". alcohol\n",
            "  . Most correlated bigrams:\n",
            ". full bodied\n",
            ". black pepper\n",
            "\n"
          ],
          "name": "stdout"
        }
      ]
    },
    {
      "cell_type": "code",
      "metadata": {
        "id": "6fxf4EuUHiX-",
        "colab_type": "code",
        "outputId": "13f6ed41-b898-4f95-949d-7a6b1b12ef2c",
        "colab": {
          "base_uri": "https://localhost:8080/",
          "height": 385
        }
      },
      "source": [
        "\n",
        "bigrams"
      ],
      "execution_count": 0,
      "outputs": [
        {
          "output_type": "execute_result",
          "data": {
            "text/plain": [
              "['fruit flavor',\n",
              " 'red cherry',\n",
              " 'medium bodied',\n",
              " 'bake spice',\n",
              " 'white pepper',\n",
              " 'red fruit',\n",
              " 'red berry',\n",
              " 'berry fruit',\n",
              " 'cherry flavor',\n",
              " 'black cherry',\n",
              " 'firm tannins',\n",
              " 'cherry fruit',\n",
              " 'black currant',\n",
              " 'black fruit',\n",
              " 'cabernet franc',\n",
              " 'pinot noir',\n",
              " 'drink 2018',\n",
              " 'palate offer',\n",
              " 'ready drink',\n",
              " 'cabernet sauvignon',\n",
              " 'full bodied',\n",
              " 'black pepper']"
            ]
          },
          "metadata": {
            "tags": []
          },
          "execution_count": 90
        }
      ]
    },
    {
      "cell_type": "code",
      "metadata": {
        "id": "cD_ZNxEUIrA3",
        "colab_type": "code",
        "outputId": "1b6d0283-c8da-447b-c18a-e04ac72b694b",
        "colab": {
          "base_uri": "https://localhost:8080/",
          "height": 33
        }
      },
      "source": [
        "%cd /content/drive/My Drive/wine_categorization/model/"
      ],
      "execution_count": 0,
      "outputs": [
        {
          "output_type": "stream",
          "text": [
            "/content/drive/My Drive/wine_categorization/model\n"
          ],
          "name": "stdout"
        }
      ]
    },
    {
      "cell_type": "code",
      "metadata": {
        "id": "vC3QeG77H3fP",
        "colab_type": "code",
        "colab": {}
      },
      "source": [
        "# X_train\n",
        "with open('Pickle/X_train.pickle', 'wb') as output:\n",
        "    pickle.dump(X_train, output)\n",
        "    \n",
        "# X_test    \n",
        "with open('Pickle/X_test.pickle', 'wb') as output:\n",
        "    pickle.dump(X_test, output)\n",
        "    \n",
        "# y_train\n",
        "with open('Pickle/y_train.pickle', 'wb') as output:\n",
        "    pickle.dump(y_train, output)\n",
        "    \n",
        "# y_test\n",
        "with open('Pickle/y_test.pickle', 'wb') as output:\n",
        "    pickle.dump(y_test, output)\n",
        "    \n",
        "# df\n",
        "with open('Pickle/df.pickle', 'wb') as output:\n",
        "    pickle.dump(df, output)\n",
        "    \n",
        "# features_train\n",
        "with open('Pickle/features_train.pickle', 'wb') as output:\n",
        "    pickle.dump(features_train, output)\n",
        "\n",
        "# labels_train\n",
        "with open('Pickle/labels_train.pickle', 'wb') as output:\n",
        "    pickle.dump(labels_train, output)\n",
        "\n",
        "# features_test\n",
        "with open('Pickle/features_test.pickle', 'wb') as output:\n",
        "    pickle.dump(features_test, output)\n",
        "\n",
        "# labels_test\n",
        "with open('Pickle/labels_test.pickle', 'wb') as output:\n",
        "    pickle.dump(labels_test, output)\n",
        "    \n",
        "# TF-IDF object\n",
        "with open('Pickle/tfidf.pickle', 'wb') as output:\n",
        "    pickle.dump(tfidf, output)"
      ],
      "execution_count": 0,
      "outputs": []
    },
    {
      "cell_type": "code",
      "metadata": {
        "id": "Drlgxpk8JOng",
        "colab_type": "code",
        "outputId": "7f898987-40e8-4091-c165-b33d9fb9028b",
        "colab": {
          "base_uri": "https://localhost:8080/",
          "height": 70
        }
      },
      "source": [
        "import pickle\n",
        "import numpy as np\n",
        "from sklearn.feature_extraction.text import TfidfVectorizer\n",
        "from sklearn import svm\n",
        "from pprint import pprint\n",
        "from sklearn.model_selection import RandomizedSearchCV\n",
        "from sklearn.model_selection import GridSearchCV\n",
        "from sklearn.metrics import classification_report, confusion_matrix, accuracy_score\n",
        "from sklearn.model_selection import ShuffleSplit\n",
        "import matplotlib.pyplot as plt\n",
        "import seaborn as sns\n",
        "import pandas as pd"
      ],
      "execution_count": 0,
      "outputs": [
        {
          "output_type": "stream",
          "text": [
            "/usr/local/lib/python3.6/dist-packages/statsmodels/tools/_testing.py:19: FutureWarning: pandas.util.testing is deprecated. Use the functions in the public API at pandas.testing instead.\n",
            "  import pandas.util.testing as tm\n"
          ],
          "name": "stderr"
        }
      ]
    },
    {
      "cell_type": "code",
      "metadata": {
        "id": "Xp9L7aFURhXY",
        "colab_type": "code",
        "colab": {}
      },
      "source": [
        "# Dataframe\n",
        "path_df = \"/content/drive/My Drive/wine_categorization/model/Pickle/df.pickle\"\n",
        "with open(path_df, 'rb') as data:\n",
        "    df = pickle.load(data)\n",
        "\n",
        "# features_train\n",
        "path_features_train = \"/content/drive/My Drive/wine_categorization/model/Pickle/features_train.pickle\"\n",
        "with open(path_features_train, 'rb') as data:\n",
        "    features_train = pickle.load(data)\n",
        "\n",
        "# labels_train\n",
        "path_labels_train = \"/content/drive/My Drive/wine_categorization/model/Pickle/labels_train.pickle\"\n",
        "with open(path_labels_train, 'rb') as data:\n",
        "    labels_train = pickle.load(data)\n",
        "\n",
        "# features_test\n",
        "path_features_test = \"/content/drive/My Drive/wine_categorization/model/Pickle/features_test.pickle\"\n",
        "with open(path_features_test, 'rb') as data:\n",
        "    features_test = pickle.load(data)\n",
        "\n",
        "# labels_test\n",
        "path_labels_test = \"/content/drive/My Drive/wine_categorization/model/Pickle/labels_test.pickle\"\n",
        "with open(path_labels_test, 'rb') as data:\n",
        "    labels_test = pickle.load(data)"
      ],
      "execution_count": 0,
      "outputs": []
    },
    {
      "cell_type": "code",
      "metadata": {
        "id": "nHyrEy7ySPRW",
        "colab_type": "code",
        "outputId": "69986a5c-a296-4ebf-d104-b8ec39f262d1",
        "colab": {
          "base_uri": "https://localhost:8080/",
          "height": 84
        }
      },
      "source": [
        "print(features_train.shape)\n",
        "print(labels_train.shape)\n",
        "print(features_test.shape)\n",
        "\n",
        "print(labels_test.shape)"
      ],
      "execution_count": 0,
      "outputs": [
        {
          "output_type": "stream",
          "text": [
            "(66125, 300)\n",
            "(66125,)\n",
            "(16532, 300)\n",
            "(16532,)\n"
          ],
          "name": "stdout"
        }
      ]
    },
    {
      "cell_type": "code",
      "metadata": {
        "id": "eITizO2VSfxI",
        "colab_type": "code",
        "outputId": "03f3c67e-0f47-4219-ab4d-e78b39164b62",
        "colab": {
          "base_uri": "https://localhost:8080/",
          "height": 301
        }
      },
      "source": [
        "svc_0 =svm.SVC(random_state=8)\n",
        "\n",
        "print('Parameters currently in use:\\n')\n",
        "pprint(svc_0.get_params())"
      ],
      "execution_count": 0,
      "outputs": [
        {
          "output_type": "stream",
          "text": [
            "Parameters currently in use:\n",
            "\n",
            "{'C': 1.0,\n",
            " 'break_ties': False,\n",
            " 'cache_size': 200,\n",
            " 'class_weight': None,\n",
            " 'coef0': 0.0,\n",
            " 'decision_function_shape': 'ovr',\n",
            " 'degree': 3,\n",
            " 'gamma': 'scale',\n",
            " 'kernel': 'rbf',\n",
            " 'max_iter': -1,\n",
            " 'probability': False,\n",
            " 'random_state': 8,\n",
            " 'shrinking': True,\n",
            " 'tol': 0.001,\n",
            " 'verbose': False}\n"
          ],
          "name": "stdout"
        }
      ]
    },
    {
      "cell_type": "code",
      "metadata": {
        "id": "Py_gk268Sobm",
        "colab_type": "code",
        "outputId": "bd9c4b5c-9d16-4b14-f67e-7eb83a5c8568",
        "colab": {
          "base_uri": "https://localhost:8080/",
          "height": 100
        }
      },
      "source": [
        "# C\n",
        "C = [.0001, .001, .01]\n",
        "\n",
        "# gamma\n",
        "gamma = [.0001, .001, .01, .1, 1, 10, 100]\n",
        "\n",
        "# degree\n",
        "degree = [1, 2, 3, 4, 5]\n",
        "\n",
        "# kernel\n",
        "kernel = ['linear', 'rbf', 'poly']\n",
        "\n",
        "# probability\n",
        "probability = [True]\n",
        "\n",
        "# Create the random grid\n",
        "random_grid = {'C': C,\n",
        "              'kernel': kernel,\n",
        "              'gamma': gamma,\n",
        "              'degree': degree,\n",
        "              'probability': probability\n",
        "             }\n",
        "\n",
        "pprint(random_grid)"
      ],
      "execution_count": 0,
      "outputs": [
        {
          "output_type": "stream",
          "text": [
            "{'C': [0.0001, 0.001, 0.01],\n",
            " 'degree': [1, 2, 3, 4, 5],\n",
            " 'gamma': [0.0001, 0.001, 0.01, 0.1, 1, 10, 100],\n",
            " 'kernel': ['linear', 'rbf', 'poly'],\n",
            " 'probability': [True]}\n"
          ],
          "name": "stdout"
        }
      ]
    },
    {
      "cell_type": "code",
      "metadata": {
        "id": "lySN1DzbUjXM",
        "colab_type": "code",
        "outputId": "9a4f8b8a-417c-4b41-dd99-b8a1e9f69da3",
        "colab": {
          "base_uri": "https://localhost:8080/",
          "height": 100
        }
      },
      "source": [
        "# C\n",
        "C = [.01]\n",
        "\n",
        "# gamma\n",
        "gamma = [10]\n",
        "\n",
        "# degree\n",
        "degree = [4, 5]\n",
        "\n",
        "# kernel\n",
        "kernel = ['poly']\n",
        "\n",
        "# probability\n",
        "probability = [True]\n",
        "\n",
        "# Create the random grid\n",
        "random_grid = {'C': C,\n",
        "              'kernel': kernel,\n",
        "              'gamma': gamma,\n",
        "              'degree': degree,\n",
        "              'probability': probability\n",
        "             }\n",
        "\n",
        "pprint(random_grid)"
      ],
      "execution_count": 0,
      "outputs": [
        {
          "output_type": "stream",
          "text": [
            "{'C': [0.01],\n",
            " 'degree': [4, 5],\n",
            " 'gamma': [10],\n",
            " 'kernel': ['poly'],\n",
            " 'probability': [True]}\n"
          ],
          "name": "stdout"
        }
      ]
    },
    {
      "cell_type": "code",
      "metadata": {
        "id": "ITdfH-9fTBLo",
        "colab_type": "code",
        "outputId": "0a176749-3799-4114-8685-fd8862afe662",
        "colab": {
          "base_uri": "https://localhost:8080/",
          "height": 104
        }
      },
      "source": [
        "# First create the base model to tune\n",
        "svc = svm.SVC(random_state=8)\n",
        "\n",
        "# Definition of the random search\n",
        "random_search = RandomizedSearchCV(estimator=svc,\n",
        "                                   param_distributions=random_grid,\n",
        "                                   n_iter=50,\n",
        "                                   scoring='accuracy',\n",
        "                                   cv=3, \n",
        "                                   verbose=1, \n",
        "                                   random_state=8)\n",
        "\n",
        "# Fit the random search model\n",
        "random_search.fit(features_train, labels_train)"
      ],
      "execution_count": 0,
      "outputs": [
        {
          "output_type": "stream",
          "text": [
            "/usr/local/lib/python3.6/dist-packages/sklearn/model_selection/_search.py:281: UserWarning: The total space of parameters 2 is smaller than n_iter=50. Running 2 iterations. For exhaustive searches, use GridSearchCV.\n",
            "  % (grid_size, self.n_iter, grid_size), UserWarning)\n",
            "[Parallel(n_jobs=1)]: Using backend SequentialBackend with 1 concurrent workers.\n"
          ],
          "name": "stderr"
        },
        {
          "output_type": "stream",
          "text": [
            "Fitting 3 folds for each of 2 candidates, totalling 6 fits\n"
          ],
          "name": "stdout"
        }
      ]
    },
    {
      "cell_type": "code",
      "metadata": {
        "id": "8H8NcCdMzc0L",
        "colab_type": "code",
        "colab": {}
      },
      "source": [
        "print(\"The best hyperparameters from Grid Search are:\")\n",
        "print(random_search.best_params_)\n",
        "print(\"\")\n",
        "print(\"The mean accuracy of a model with these hyperparameters is:\")\n",
        "print(random_search.best_score_)"
      ],
      "execution_count": 0,
      "outputs": []
    },
    {
      "cell_type": "code",
      "metadata": {
        "id": "1Dxe16jFzlsn",
        "colab_type": "code",
        "colab": {}
      },
      "source": [
        "best_svc = grid_search.best_estimator_\n",
        "best_svc"
      ],
      "execution_count": 0,
      "outputs": []
    },
    {
      "cell_type": "code",
      "metadata": {
        "id": "mTIpgomVzuSZ",
        "colab_type": "code",
        "colab": {}
      },
      "source": [
        "with open('/content/drive/My Drive/wine_categorization/model/best_svc.pickle', 'wb') as output:\n",
        "    pickle.dump(best_svc, output)"
      ],
      "execution_count": 0,
      "outputs": []
    }
  ]
}