{
  "nbformat": 4,
  "nbformat_minor": 0,
  "metadata": {
    "colab": {
      "name": "wine_variety_test.ipynb",
      "provenance": [],
      "mount_file_id": "16W0ZoVUq8S9GD92f_E8HsgsPj4dKDVO6",
      "authorship_tag": "ABX9TyNtR4GiUeSV1HRN97ANGf2c"
    },
    "kernelspec": {
      "name": "python3",
      "display_name": "Python 3"
    }
  },
  "cells": [
    {
      "cell_type": "code",
      "metadata": {
        "id": "cGp6w1Hb1jpq",
        "colab_type": "code",
        "outputId": "1830159f-cb44-41bd-c260-c488420701d6",
        "colab": {
          "base_uri": "https://localhost:8080/",
          "height": 70
        }
      },
      "source": [
        "import pandas as pd\n",
        "import numpy as np\n",
        "import seaborn as sns\n",
        "import matplotlib.pyplot as plt\n",
        "%matplotlib inline\n",
        "import warnings\n",
        "warnings.filterwarnings(\"ignore\")\n",
        "import pickle"
      ],
      "execution_count": 0,
      "outputs": [
        {
          "output_type": "stream",
          "text": [
            "/usr/local/lib/python3.6/dist-packages/statsmodels/tools/_testing.py:19: FutureWarning: pandas.util.testing is deprecated. Use the functions in the public API at pandas.testing instead.\n",
            "  import pandas.util.testing as tm\n"
          ],
          "name": "stderr"
        }
      ]
    },
    {
      "cell_type": "code",
      "metadata": {
        "id": "addW3Uvm2c9i",
        "colab_type": "code",
        "outputId": "a282f65a-2042-418c-f79d-b45c5c0db2e2",
        "colab": {
          "base_uri": "https://localhost:8080/",
          "height": 33
        }
      },
      "source": [
        "df = pd.read_csv('/content/drive/My Drive/wine_categorization/data/test.csv')\n",
        "df.shape"
      ],
      "execution_count": 0,
      "outputs": [
        {
          "output_type": "execute_result",
          "data": {
            "text/plain": [
              "(20665, 11)"
            ]
          },
          "metadata": {
            "tags": []
          },
          "execution_count": 2
        }
      ]
    },
    {
      "cell_type": "code",
      "metadata": {
        "id": "MVS-AlVL2r6F",
        "colab_type": "code",
        "outputId": "c0b196d0-f72e-457b-de96-e95e56eefc99",
        "colab": {
          "base_uri": "https://localhost:8080/",
          "height": 217
        }
      },
      "source": [
        "df.isna().sum()"
      ],
      "execution_count": 0,
      "outputs": [
        {
          "output_type": "execute_result",
          "data": {
            "text/plain": [
              "user_name              4738\n",
              "country                   4\n",
              "review_title              0\n",
              "review_description        0\n",
              "designation            5989\n",
              "points                    0\n",
              "price                  1394\n",
              "province                  4\n",
              "region_1               3314\n",
              "region_2              11751\n",
              "winery                    0\n",
              "dtype: int64"
            ]
          },
          "metadata": {
            "tags": []
          },
          "execution_count": 3
        }
      ]
    },
    {
      "cell_type": "code",
      "metadata": {
        "id": "dYkBTd8L23iz",
        "colab_type": "code",
        "outputId": "5d6e55df-8361-4289-ebce-141261787991",
        "colab": {
          "base_uri": "https://localhost:8080/",
          "height": 251
        }
      },
      "source": [
        "df_1 = df.loc[df.points.notna(),['review_title', 'review_description', 'points']]\n",
        "display(df_1.head)"
      ],
      "execution_count": 0,
      "outputs": [
        {
          "output_type": "display_data",
          "data": {
            "text/plain": [
              "<bound method NDFrame.head of                                             review_title  ... points\n",
              "0      Boedecker Cellars 2011 Athena Pinot Noir (Will...  ...     88\n",
              "1      Mendoza Vineyards 2012 Gran Reserva by Richard...  ...     90\n",
              "2                    Prime 2013 Chardonnay (Coombsville)  ...     87\n",
              "3      Bodega Cuarto Dominio 2012 Chento Vineyard Sel...  ...     91\n",
              "4               SassodiSole 2012  Brunello di Montalcino  ...     90\n",
              "...                                                  ...  ...    ...\n",
              "20660  Yorkville Cellars 2013 Rennie Vineyard Caberne...  ...     91\n",
              "20661  Château Ribaute 2015 Senhal d'Aric Rosé (Corbi...  ...     84\n",
              "20662  Daou 2014 Reserve Cabernet Sauvignon (Paso Rob...  ...     94\n",
              "20663  Peñascal 2011 Tempranillo Rosé (Vino de la Tie...  ...     80\n",
              "20664  Langtry 2005 Tephra Ridge Vineyard Cabernet Sa...  ...     87\n",
              "\n",
              "[20665 rows x 3 columns]>"
            ]
          },
          "metadata": {
            "tags": []
          }
        }
      ]
    },
    {
      "cell_type": "code",
      "metadata": {
        "id": "ztBA4E6x3Gum",
        "colab_type": "code",
        "colab": {}
      },
      "source": [
        "with open('/content/drive/My Drive/wine_categorization/model/Wine_dataset_test.pickle', 'wb') as output:\n",
        "    pickle.dump(df_1, output)"
      ],
      "execution_count": 0,
      "outputs": []
    },
    {
      "cell_type": "code",
      "metadata": {
        "id": "sBd05iWk3SlW",
        "colab_type": "code",
        "colab": {}
      },
      "source": [
        "import pickle\n",
        "import pandas as pd\n",
        "import re\n",
        "import nltk\n",
        "from nltk.corpus import stopwords\n",
        "from nltk.stem import WordNetLemmatizer\n",
        "from sklearn.feature_extraction.text import TfidfVectorizer\n",
        "from sklearn.model_selection import train_test_split\n",
        "from sklearn.feature_selection import chi2\n",
        "import numpy as np"
      ],
      "execution_count": 0,
      "outputs": []
    },
    {
      "cell_type": "code",
      "metadata": {
        "id": "1OvnCYdQ3XW9",
        "colab_type": "code",
        "colab": {}
      },
      "source": [
        "path_df = \"/content/drive/My Drive/wine_categorization/model/Wine_dataset_test.pickle\"\n",
        "\n",
        "with open(path_df, 'rb') as data:\n",
        "    df = pickle.load(data)"
      ],
      "execution_count": 0,
      "outputs": []
    },
    {
      "cell_type": "code",
      "metadata": {
        "id": "EUk4Q_UX3fS1",
        "colab_type": "code",
        "outputId": "11e18256-a4d9-4e37-87b6-3b84d7c0f283",
        "colab": {
          "base_uri": "https://localhost:8080/",
          "height": 53
        }
      },
      "source": [
        "df.loc[6]['review_description']"
      ],
      "execution_count": 0,
      "outputs": [
        {
          "output_type": "execute_result",
          "data": {
            "text/plain": [
              "'A structured wine that has berry fruits, black currants and a firm, dry core of tannins. It has the weight, texture and richness of the vintage, with a solid future as it rounds out and softens. Drink from 2015.'"
            ]
          },
          "metadata": {
            "tags": []
          },
          "execution_count": 9
        }
      ]
    },
    {
      "cell_type": "code",
      "metadata": {
        "id": "vw6MHKO63kvJ",
        "colab_type": "code",
        "colab": {}
      },
      "source": [
        "df['Description_Parsed_1'] = df['review_description'].str.replace('\"', '')"
      ],
      "execution_count": 0,
      "outputs": []
    },
    {
      "cell_type": "code",
      "metadata": {
        "id": "oG0RpDFP3oaw",
        "colab_type": "code",
        "colab": {}
      },
      "source": [
        "df['Description_Parsed_2'] = df['Description_Parsed_1'].str.lower()"
      ],
      "execution_count": 0,
      "outputs": []
    },
    {
      "cell_type": "code",
      "metadata": {
        "id": "RYeMujej3tHB",
        "colab_type": "code",
        "colab": {}
      },
      "source": [
        "punctuation_signs = list(\"?:!.,;\")\n",
        "df['Description_Parsed_3'] = df['Description_Parsed_2']\n",
        "\n",
        "for punct_sign in punctuation_signs:\n",
        "    df['Description_Parsed_3'] = df['Description_Parsed_3'].str.replace(punct_sign, '')"
      ],
      "execution_count": 0,
      "outputs": []
    },
    {
      "cell_type": "code",
      "metadata": {
        "id": "H4nVEOk031rF",
        "colab_type": "code",
        "colab": {}
      },
      "source": [
        "df['Description_Parsed_4'] = df['Description_Parsed_3'].str.replace(\"'s\", \"\")"
      ],
      "execution_count": 0,
      "outputs": []
    },
    {
      "cell_type": "code",
      "metadata": {
        "id": "jy2hFRyz32_I",
        "colab_type": "code",
        "outputId": "78a44f80-0b5f-44c7-ea94-8d21ac96065a",
        "colab": {
          "base_uri": "https://localhost:8080/",
          "height": 117
        }
      },
      "source": [
        "nltk.download('punkt')\n",
        "print(\"------------------------------------------------------------\")\n",
        "nltk.download('wordnet')"
      ],
      "execution_count": 0,
      "outputs": [
        {
          "output_type": "stream",
          "text": [
            "[nltk_data] Downloading package punkt to /root/nltk_data...\n",
            "[nltk_data]   Unzipping tokenizers/punkt.zip.\n",
            "------------------------------------------------------------\n",
            "[nltk_data] Downloading package wordnet to /root/nltk_data...\n",
            "[nltk_data]   Unzipping corpora/wordnet.zip.\n"
          ],
          "name": "stdout"
        },
        {
          "output_type": "execute_result",
          "data": {
            "text/plain": [
              "True"
            ]
          },
          "metadata": {
            "tags": []
          },
          "execution_count": 14
        }
      ]
    },
    {
      "cell_type": "code",
      "metadata": {
        "id": "62k41jjB36jA",
        "colab_type": "code",
        "colab": {}
      },
      "source": [
        "wordnet_lemmatizer = WordNetLemmatizer()"
      ],
      "execution_count": 0,
      "outputs": []
    },
    {
      "cell_type": "code",
      "metadata": {
        "id": "Dzm5N9yp4BLl",
        "colab_type": "code",
        "colab": {}
      },
      "source": [
        "nrows = len(df)\n",
        "lemmatized_text_list = []\n",
        "\n",
        "for row in range(0, nrows):\n",
        "    \n",
        "    # Create an empty list containing lemmatized words\n",
        "    lemmatized_list = []\n",
        "    \n",
        "    # Save the text and its words into an object\n",
        "    text = df.loc[row]['Description_Parsed_4']\n",
        "    text_words = text.split(\" \")\n",
        "\n",
        "    # Iterate through every word to lemmatize\n",
        "    for word in text_words:\n",
        "        lemmatized_list.append(wordnet_lemmatizer.lemmatize(word, pos=\"v\"))\n",
        "        \n",
        "    # Join the list\n",
        "    lemmatized_text = \" \".join(lemmatized_list)\n",
        "    \n",
        "    # Append to the list containing the texts\n",
        "    lemmatized_text_list.append(lemmatized_text)"
      ],
      "execution_count": 0,
      "outputs": []
    },
    {
      "cell_type": "code",
      "metadata": {
        "id": "CzmpVD5d4C--",
        "colab_type": "code",
        "colab": {}
      },
      "source": [
        "df['Description_Parsed_5'] = lemmatized_text_list"
      ],
      "execution_count": 0,
      "outputs": []
    },
    {
      "cell_type": "code",
      "metadata": {
        "id": "VXU6FqwD4LMy",
        "colab_type": "code",
        "outputId": "1a2a723d-e128-47b2-94d1-a387b4ed17bb",
        "colab": {
          "base_uri": "https://localhost:8080/",
          "height": 67
        }
      },
      "source": [
        "nltk.download('stopwords')\n",
        "stop_words = list(stopwords.words('english'))\n",
        "stop_words[0:10]"
      ],
      "execution_count": 0,
      "outputs": [
        {
          "output_type": "stream",
          "text": [
            "[nltk_data] Downloading package stopwords to /root/nltk_data...\n",
            "[nltk_data]   Unzipping corpora/stopwords.zip.\n"
          ],
          "name": "stdout"
        },
        {
          "output_type": "execute_result",
          "data": {
            "text/plain": [
              "['i', 'me', 'my', 'myself', 'we', 'our', 'ours', 'ourselves', 'you', \"you're\"]"
            ]
          },
          "metadata": {
            "tags": []
          },
          "execution_count": 18
        }
      ]
    },
    {
      "cell_type": "code",
      "metadata": {
        "id": "7t_tAx4j4MjA",
        "colab_type": "code",
        "colab": {}
      },
      "source": [
        "df['Description_Parsed_6'] = df['Description_Parsed_5']\n",
        "\n",
        "for stop_word in stop_words:\n",
        "\n",
        "    regex_stopword = r\"\\b\" + stop_word + r\"\\b\"\n",
        "    df['Description_Parsed_6'] = df['Description_Parsed_6'].str.replace(regex_stopword, '')"
      ],
      "execution_count": 0,
      "outputs": []
    },
    {
      "cell_type": "code",
      "metadata": {
        "id": "5Meew5CH4VfK",
        "colab_type": "code",
        "outputId": "0f95a9e8-3c59-4dce-f562-737fce2d7c7a",
        "colab": {
          "base_uri": "https://localhost:8080/",
          "height": 53
        }
      },
      "source": [
        "df.loc[5]['review_description']"
      ],
      "execution_count": 0,
      "outputs": [
        {
          "output_type": "execute_result",
          "data": {
            "text/plain": [
              "'The timid nose squeaks out notes of Chinese five spice and warm green apple, with a slight hint of sulfur. Light to medium bodied, the palate bears a slight sweetness, tame acids and a quick finish.'"
            ]
          },
          "metadata": {
            "tags": []
          },
          "execution_count": 20
        }
      ]
    },
    {
      "cell_type": "code",
      "metadata": {
        "id": "9LxFaDKe4c-9",
        "colab_type": "code",
        "outputId": "6cd67a9a-67f5-4958-a163-91399bc06000",
        "colab": {
          "base_uri": "https://localhost:8080/",
          "height": 53
        }
      },
      "source": [
        "df.loc[5]['Description_Parsed_1']"
      ],
      "execution_count": 0,
      "outputs": [
        {
          "output_type": "execute_result",
          "data": {
            "text/plain": [
              "'The timid nose squeaks out notes of Chinese five spice and warm green apple, with a slight hint of sulfur. Light to medium bodied, the palate bears a slight sweetness, tame acids and a quick finish.'"
            ]
          },
          "metadata": {
            "tags": []
          },
          "execution_count": 21
        }
      ]
    },
    {
      "cell_type": "code",
      "metadata": {
        "id": "o8J7xU824hCf",
        "colab_type": "code",
        "outputId": "198678da-9c6e-4af9-f49a-8319049ec466",
        "colab": {
          "base_uri": "https://localhost:8080/",
          "height": 53
        }
      },
      "source": [
        "df.loc[5]['Description_Parsed_2']"
      ],
      "execution_count": 0,
      "outputs": [
        {
          "output_type": "execute_result",
          "data": {
            "text/plain": [
              "'the timid nose squeaks out notes of chinese five spice and warm green apple, with a slight hint of sulfur. light to medium bodied, the palate bears a slight sweetness, tame acids and a quick finish.'"
            ]
          },
          "metadata": {
            "tags": []
          },
          "execution_count": 22
        }
      ]
    },
    {
      "cell_type": "code",
      "metadata": {
        "id": "OwGkPtx94rYf",
        "colab_type": "code",
        "outputId": "6303dcf5-8288-43bd-db89-df5497831bcc",
        "colab": {
          "base_uri": "https://localhost:8080/",
          "height": 53
        }
      },
      "source": [
        "df.loc[5]['Description_Parsed_5']"
      ],
      "execution_count": 0,
      "outputs": [
        {
          "output_type": "execute_result",
          "data": {
            "text/plain": [
              "'the timid nose squeak out note of chinese five spice and warm green apple with a slight hint of sulfur light to medium body the palate bear a slight sweetness tame acids and a quick finish'"
            ]
          },
          "metadata": {
            "tags": []
          },
          "execution_count": 23
        }
      ]
    },
    {
      "cell_type": "code",
      "metadata": {
        "id": "nB7lryXh4tPV",
        "colab_type": "code",
        "colab": {}
      },
      "source": [
        "df['Description_Parsed_7']=df['Description_Parsed_6'].str.replace(\"'\",\"\")"
      ],
      "execution_count": 0,
      "outputs": []
    },
    {
      "cell_type": "code",
      "metadata": {
        "id": "JBzZkw1l4xo4",
        "colab_type": "code",
        "outputId": "07c4d160-3f45-4909-c37a-deef1897bb45",
        "colab": {
          "base_uri": "https://localhost:8080/",
          "height": 53
        }
      },
      "source": [
        "df.loc[5]['Description_Parsed_7']"
      ],
      "execution_count": 0,
      "outputs": [
        {
          "output_type": "execute_result",
          "data": {
            "text/plain": [
              "' timid nose squeak  note  chinese five spice  warm green apple   slight hint  sulfur light  medium body  palate bear  slight sweetness tame acids   quick finish'"
            ]
          },
          "metadata": {
            "tags": []
          },
          "execution_count": 25
        }
      ]
    },
    {
      "cell_type": "code",
      "metadata": {
        "id": "WiGgWsiw45x8",
        "colab_type": "code",
        "outputId": "037d5ccf-5f54-4f8a-fda4-d80695aed4fa",
        "colab": {
          "base_uri": "https://localhost:8080/",
          "height": 147
        }
      },
      "source": [
        "df.head(1)"
      ],
      "execution_count": 0,
      "outputs": [
        {
          "output_type": "execute_result",
          "data": {
            "text/html": [
              "<div>\n",
              "<style scoped>\n",
              "    .dataframe tbody tr th:only-of-type {\n",
              "        vertical-align: middle;\n",
              "    }\n",
              "\n",
              "    .dataframe tbody tr th {\n",
              "        vertical-align: top;\n",
              "    }\n",
              "\n",
              "    .dataframe thead th {\n",
              "        text-align: right;\n",
              "    }\n",
              "</style>\n",
              "<table border=\"1\" class=\"dataframe\">\n",
              "  <thead>\n",
              "    <tr style=\"text-align: right;\">\n",
              "      <th></th>\n",
              "      <th>review_title</th>\n",
              "      <th>review_description</th>\n",
              "      <th>points</th>\n",
              "      <th>Description_Parsed_1</th>\n",
              "      <th>Description_Parsed_2</th>\n",
              "      <th>Description_Parsed_3</th>\n",
              "      <th>Description_Parsed_4</th>\n",
              "      <th>Description_Parsed_5</th>\n",
              "      <th>Description_Parsed_6</th>\n",
              "      <th>Description_Parsed_7</th>\n",
              "    </tr>\n",
              "  </thead>\n",
              "  <tbody>\n",
              "    <tr>\n",
              "      <th>0</th>\n",
              "      <td>Boedecker Cellars 2011 Athena Pinot Noir (Will...</td>\n",
              "      <td>Nicely differentiated from the companion Stewa...</td>\n",
              "      <td>88</td>\n",
              "      <td>Nicely differentiated from the companion Stewa...</td>\n",
              "      <td>nicely differentiated from the companion stewa...</td>\n",
              "      <td>nicely differentiated from the companion stewa...</td>\n",
              "      <td>nicely differentiated from the companion stewa...</td>\n",
              "      <td>nicely differentiate from the companion stewar...</td>\n",
              "      <td>nicely differentiate   companion stewart bottl...</td>\n",
              "      <td>nicely differentiate   companion stewart bottl...</td>\n",
              "    </tr>\n",
              "  </tbody>\n",
              "</table>\n",
              "</div>"
            ],
            "text/plain": [
              "                                        review_title  ...                               Description_Parsed_7\n",
              "0  Boedecker Cellars 2011 Athena Pinot Noir (Will...  ...  nicely differentiate   companion stewart bottl...\n",
              "\n",
              "[1 rows x 10 columns]"
            ]
          },
          "metadata": {
            "tags": []
          },
          "execution_count": 26
        }
      ]
    },
    {
      "cell_type": "code",
      "metadata": {
        "id": "R0PCh49f4-vW",
        "colab_type": "code",
        "colab": {}
      },
      "source": [
        "list_columns = [\"review_title\", \"review_description\", \"Description_Parsed_7\", \"points\"]\n",
        "df = df[list_columns]\n",
        "\n",
        "df = df.rename(columns={'Description_Parsed_7': 'Description_Parsed'})"
      ],
      "execution_count": 0,
      "outputs": []
    },
    {
      "cell_type": "code",
      "metadata": {
        "id": "ji_cJo8D5G6H",
        "colab_type": "code",
        "outputId": "5b73a55e-32d6-4454-b316-5d59d1ce7252",
        "colab": {
          "base_uri": "https://localhost:8080/",
          "height": 94
        }
      },
      "source": [
        "df.head(1)"
      ],
      "execution_count": 0,
      "outputs": [
        {
          "output_type": "execute_result",
          "data": {
            "text/html": [
              "<div>\n",
              "<style scoped>\n",
              "    .dataframe tbody tr th:only-of-type {\n",
              "        vertical-align: middle;\n",
              "    }\n",
              "\n",
              "    .dataframe tbody tr th {\n",
              "        vertical-align: top;\n",
              "    }\n",
              "\n",
              "    .dataframe thead th {\n",
              "        text-align: right;\n",
              "    }\n",
              "</style>\n",
              "<table border=\"1\" class=\"dataframe\">\n",
              "  <thead>\n",
              "    <tr style=\"text-align: right;\">\n",
              "      <th></th>\n",
              "      <th>review_title</th>\n",
              "      <th>review_description</th>\n",
              "      <th>Description_Parsed</th>\n",
              "      <th>points</th>\n",
              "    </tr>\n",
              "  </thead>\n",
              "  <tbody>\n",
              "    <tr>\n",
              "      <th>0</th>\n",
              "      <td>Boedecker Cellars 2011 Athena Pinot Noir (Will...</td>\n",
              "      <td>Nicely differentiated from the companion Stewa...</td>\n",
              "      <td>nicely differentiate   companion stewart bottl...</td>\n",
              "      <td>88</td>\n",
              "    </tr>\n",
              "  </tbody>\n",
              "</table>\n",
              "</div>"
            ],
            "text/plain": [
              "                                        review_title  ... points\n",
              "0  Boedecker Cellars 2011 Athena Pinot Noir (Will...  ...     88\n",
              "\n",
              "[1 rows x 4 columns]"
            ]
          },
          "metadata": {
            "tags": []
          },
          "execution_count": 29
        }
      ]
    },
    {
      "cell_type": "code",
      "metadata": {
        "id": "xceV1pZj5L6U",
        "colab_type": "code",
        "colab": {}
      },
      "source": [
        "variety_codes = {\n",
        "    'Bordeaux-style Red Blend':0,\n",
        "    'Bordeaux-style White Blend':1,\n",
        "    'Cabernet Franc': 2,\n",
        "    'Cabernet Sauvignon':3,\n",
        "    'Champagne Blend':4,\n",
        "    'Chardonnay':5,\n",
        "    'Gamay':6,\n",
        "    'Gewürztraminer':7,\n",
        "    'Grüner Veltliner':8,\n",
        "    'Malbec':9,\n",
        "    'Merlot':10,\n",
        "    'Nebbiolo':11,\n",
        "    'Pinot Grigio':12,\n",
        "    'Pinot Gris':13,\n",
        "    'Pinot Noir':14,\n",
        "    'Portuguese Red':15,\n",
        "    'Portuguese White':16,\n",
        "    'Red Blend':17,\n",
        "    'Rhône-style Red Blend':18,\n",
        "    'Riesling':19,\n",
        "    'Rosé':20,\n",
        "    'Sangiovese':21,\n",
        "    'Sauvignon Blanc':22,\n",
        "    'Sparkling Blend':23,\n",
        "    'Syrah':24,\n",
        "    'Tempranillo':25,\n",
        "    'White Blend':26,\n",
        "    'Zinfandel':27\n",
        "}"
      ],
      "execution_count": 0,
      "outputs": []
    },
    {
      "cell_type": "code",
      "metadata": {
        "id": "e6GWDazp6Win",
        "colab_type": "code",
        "colab": {}
      },
      "source": [
        "X_val = df['Description_Parsed']"
      ],
      "execution_count": 0,
      "outputs": []
    },
    {
      "cell_type": "code",
      "metadata": {
        "id": "-rOTwq7K6kkI",
        "colab_type": "code",
        "colab": {}
      },
      "source": [
        "# Parameter election\n",
        "ngram_range = (1,2)\n",
        "min_df = 10\n",
        "max_df = 1.\n",
        "max_features = 300"
      ],
      "execution_count": 0,
      "outputs": []
    },
    {
      "cell_type": "code",
      "metadata": {
        "id": "l3tTp5FS6o2m",
        "colab_type": "code",
        "outputId": "1f5f498a-2a8e-4898-c4c5-a805e1359d2a",
        "colab": {
          "base_uri": "https://localhost:8080/",
          "height": 33
        }
      },
      "source": [
        "tfidf = TfidfVectorizer(encoding='utf-8',\n",
        "                        ngram_range=ngram_range,\n",
        "                        stop_words=None,\n",
        "                        lowercase=False,\n",
        "                        max_df=max_df,\n",
        "                        min_df=min_df,\n",
        "                        max_features=max_features,\n",
        "                        norm='l2',\n",
        "                        sublinear_tf=True)\n",
        "                        \n",
        "features_val = tfidf.fit_transform(X_val).toarray()\n",
        "print(features_val.shape)"
      ],
      "execution_count": 0,
      "outputs": [
        {
          "output_type": "stream",
          "text": [
            "(20665, 300)\n"
          ],
          "name": "stdout"
        }
      ]
    },
    {
      "cell_type": "code",
      "metadata": {
        "id": "9S_en2zV7Nza",
        "colab_type": "code",
        "outputId": "ebcac88b-45d0-49d9-e176-4c5c9c341a17",
        "colab": {
          "base_uri": "https://localhost:8080/",
          "height": 33
        }
      },
      "source": [
        "%cd /content/drive/My Drive/wine_categorization/model/"
      ],
      "execution_count": 0,
      "outputs": [
        {
          "output_type": "stream",
          "text": [
            "/content/drive/My Drive/wine_categorization/model\n"
          ],
          "name": "stdout"
        }
      ]
    },
    {
      "cell_type": "code",
      "metadata": {
        "id": "xEGGKxo37Pb9",
        "colab_type": "code",
        "colab": {}
      },
      "source": [
        "# X_val\n",
        "with open('Pickle/X_val.pickle', 'wb') as output:\n",
        "    pickle.dump(X_val, output)\n",
        "# features_val\n",
        "with open('Pickle/features_val.pickle', 'wb') as output:\n",
        "    pickle.dump(features_val, output)\n"
      ],
      "execution_count": 0,
      "outputs": []
    },
    {
      "cell_type": "code",
      "metadata": {
        "id": "FoV-sVVy7ncz",
        "colab_type": "code",
        "colab": {}
      },
      "source": [
        "import pickle\n",
        "import numpy as np\n",
        "from sklearn.feature_extraction.text import TfidfVectorizer\n",
        "from sklearn import svm\n",
        "from pprint import pprint\n",
        "from sklearn.model_selection import RandomizedSearchCV\n",
        "from sklearn.model_selection import GridSearchCV\n",
        "from sklearn.metrics import classification_report, confusion_matrix, accuracy_score\n",
        "from sklearn.model_selection import ShuffleSplit\n",
        "import matplotlib.pyplot as plt\n",
        "import seaborn as sns\n",
        "import pandas as pd"
      ],
      "execution_count": 0,
      "outputs": []
    },
    {
      "cell_type": "code",
      "metadata": {
        "id": "RUXzVBWu7z0R",
        "colab_type": "code",
        "colab": {}
      },
      "source": [
        "path_features_val = \"/content/drive/My Drive/wine_categorization/model/Pickle/features_val.pickle\"\n",
        "with open(path_features_val, 'rb') as data:\n",
        "    features_val = pickle.load(data)"
      ],
      "execution_count": 0,
      "outputs": []
    },
    {
      "cell_type": "code",
      "metadata": {
        "id": "BgrA8Gv-86ln",
        "colab_type": "code",
        "outputId": "5496c383-fc06-4ac2-ff17-a97a8a798c49",
        "colab": {
          "base_uri": "https://localhost:8080/",
          "height": 33
        }
      },
      "source": [
        "print(features_val.shape)"
      ],
      "execution_count": 0,
      "outputs": [
        {
          "output_type": "stream",
          "text": [
            "(20665, 300)\n"
          ],
          "name": "stdout"
        }
      ]
    }
  ]
}